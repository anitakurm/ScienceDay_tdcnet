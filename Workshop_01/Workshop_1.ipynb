{
 "cells": [
  {
   "cell_type": "markdown",
   "id": "5ae3eebd-0a6d-40d5-95f8-6b7ff009ae21",
   "metadata": {},
   "source": [
    "# Workshop 01 - Science Day at TDC NET - 02 October 2024"
   ]
  },
  {
   "cell_type": "markdown",
   "id": "a8b35b2d-52b6-4438-95bc-7513413762aa",
   "metadata": {},
   "source": [
    "Run the cell by pressing \"Shift+Enter\"\n"
   ]
  },
  {
   "cell_type": "code",
   "execution_count": null,
   "id": "58d98868-f089-4c05-aabb-de8aa2f147e5",
   "metadata": {},
   "outputs": [],
   "source": [
    "%matplotlib widget\n",
    "import script as s\n",
    "s.main"
   ]
  },
  {
   "cell_type": "code",
   "execution_count": null,
   "id": "abb24a49",
   "metadata": {},
   "outputs": [],
   "source": []
  }
 ],
 "metadata": {
  "kernelspec": {
   "display_name": "Python 3 (ipykernel)",
   "language": "python",
   "name": "python3"
  },
  "language_info": {
   "codemirror_mode": {
    "name": "ipython",
    "version": 3
   },
   "file_extension": ".py",
   "mimetype": "text/x-python",
   "name": "python",
   "nbconvert_exporter": "python",
   "pygments_lexer": "ipython3",
   "version": "3.10.5"
  }
 },
 "nbformat": 4,
 "nbformat_minor": 5
}
