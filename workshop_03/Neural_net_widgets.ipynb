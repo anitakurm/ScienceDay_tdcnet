{
 "cells": [
  {
   "cell_type": "markdown",
   "metadata": {},
   "source": [
    "# Machine Learning in action - Underfitting vs overfitting\n",
    "Parameters to play with: \n",
    "\n",
    "1) Linear regression vs neural net\n",
    "2) Size - max: 3 layers, 30 nodes each\n",
    "2) Train test split and no of iterations - overfitting/underfitting\n",
    "\n",
    "Run button\n",
    "Feedback: overfitting/underfitting - 2 plots, train actual vs predicted, test actual vs predicted  + written feedback + table of best params (use same as notebook 1)\n",
    "Return to best model (optional)\n",
    "\n",
    "Remedies: \n"
   ]
  },
  {
   "cell_type": "markdown",
   "metadata": {},
   "source": [
    "## Establish a benchmark: linear regression with optimal train/test split"
   ]
  },
  {
   "cell_type": "code",
   "execution_count": 1,
   "metadata": {},
   "outputs": [
    {
     "name": "stdout",
     "output_type": "stream",
     "text": [
      "Imports done\n",
      "Imports done\n",
      "Prepared data\n"
     ]
    },
    {
     "name": "stdout",
     "output_type": "stream",
     "text": [
      "Layer 1: 20\n",
      "Layer 2: 20\n",
      "Layer 3: 20\n",
      "Training your neural net (20, 20, 20)\n"
     ]
    }
   ],
   "source": [
    "%matplotlib widget\n",
    "import Neural_net_scripts as nr\n",
    "from sklearn.linear_model import LinearRegression"
   ]
  },
  {
   "cell_type": "code",
   "execution_count": 2,
   "metadata": {},
   "outputs": [
    {
     "data": {
      "application/vnd.jupyter.widget-view+json": {
       "model_id": "0d910a1ddfae45d0bcd0f2974621411a",
       "version_major": 2,
       "version_minor": 0
      },
      "text/plain": [
       "VBox(children=(HTML(value='<div style=\"font-size: 2em; font-weight: bold;display: flex;justify-content: center…"
      ]
     },
     "execution_count": 2,
     "metadata": {},
     "output_type": "execute_result"
    }
   ],
   "source": [
    "nr.main"
   ]
  },
  {
   "cell_type": "code",
   "execution_count": 3,
   "metadata": {},
   "outputs": [
    {
     "ename": "NameError",
     "evalue": "name 'prediction_log' is not defined",
     "output_type": "error",
     "traceback": [
      "\u001b[1;31m---------------------------------------------------------------------------\u001b[0m",
      "\u001b[1;31mNameError\u001b[0m                                 Traceback (most recent call last)",
      "\u001b[1;32mc:\\Users\\M93802\\Desktop\\Work\\Events\\ScienceDay_tdcnet\\workshop_03\\Neural_net_widgets.ipynb Cell 5\u001b[0m line \u001b[0;36m1\n\u001b[1;32m----> <a href='vscode-notebook-cell:/c%3A/Users/M93802/Desktop/Work/Events/ScienceDay_tdcnet/workshop_03/Neural_net_widgets.ipynb#X40sZmlsZQ%3D%3D?line=0'>1</a>\u001b[0m prediction_log\n",
      "\u001b[1;31mNameError\u001b[0m: name 'prediction_log' is not defined"
     ]
    }
   ],
   "source": [
    "prediction_log"
   ]
  },
  {
   "cell_type": "code",
   "execution_count": 4,
   "metadata": {},
   "outputs": [],
   "source": [
    "df_raw = nr.fetch_data()\n",
    "target_var = 'Mobile_Traffic'"
   ]
  },
  {
   "cell_type": "code",
   "execution_count": 5,
   "metadata": {},
   "outputs": [
    {
     "name": "stdout",
     "output_type": "stream",
     "text": [
      "Seed: 0, Score: 0.6354047579860557\n",
      "Seed: 1, Score: 0.6408509244510331\n",
      "Seed: 2, Score: 0.6328064456796397\n",
      "Seed: 3, Score: 0.6385722156781369\n",
      "Seed: 4, Score: 0.6379332927853032\n",
      "Seed: 5, Score: 0.635063619414485\n",
      "Seed: 6, Score: 0.6389149144464745\n",
      "Seed: 7, Score: 0.6300050165564818\n",
      "Seed: 8, Score: 0.6371424306987963\n",
      "Seed: 9, Score: 0.6234916114689609\n",
      "Seed: 10, Score: 0.6297854512144565\n",
      "Seed: 11, Score: 0.6357664743886664\n",
      "Seed: 12, Score: 0.6298167577316891\n",
      "Seed: 13, Score: 0.6358278049725525\n",
      "Seed: 14, Score: 0.6352247043390941\n",
      "Seed: 15, Score: 0.6339664294164502\n",
      "Seed: 16, Score: 0.6329044179388226\n",
      "Seed: 17, Score: 0.6457335636069221\n",
      "Seed: 18, Score: 0.6318033016790028\n",
      "Seed: 19, Score: 0.635716273223299\n",
      "Seed: 20, Score: 0.642375543609397\n",
      "Seed: 21, Score: 0.637532718377549\n",
      "Seed: 22, Score: 0.6344241921846625\n",
      "Seed: 23, Score: 0.6369590773794525\n",
      "Seed: 24, Score: 0.6320137526391083\n",
      "Seed: 25, Score: 0.6373269259903882\n",
      "Seed: 26, Score: 0.6328311184454175\n",
      "Seed: 27, Score: 0.6351218184048905\n",
      "Seed: 28, Score: 0.6325068353581327\n",
      "Seed: 29, Score: 0.6337468922233247\n",
      "0.6350523094096215\n"
     ]
    }
   ],
   "source": [
    "from sklearn.model_selection import train_test_split\n",
    "from sklearn.linear_model import LinearRegression\n",
    "import numpy as np\n",
    "\n",
    "X = df_raw.drop(target_var, axis=1).values\n",
    "y = df_raw[target_var].values\n",
    "\n",
    "scores = []\n",
    "for seed in range(30):\n",
    "    X_train, X_test, y_train, y_test = train_test_split(X, y, test_size=0.6, random_state=seed)\n",
    "\n",
    "    mlr = LinearRegression()\n",
    "    mlr.fit(X_train, y_train)\n",
    "    scores.append(mlr.score(X_test, y_test))\n",
    "    print(\"Seed: {}, Score: {}\".format(seed, mlr.score(X_test, y_test)))\n",
    "print(np.average(scores))"
   ]
  },
  {
   "cell_type": "code",
   "execution_count": 6,
   "metadata": {},
   "outputs": [
    {
     "name": "stdout",
     "output_type": "stream",
     "text": [
      "Seed: 0, Score: 0.630423300863734"
     ]
    },
    {
     "name": "stdout",
     "output_type": "stream",
     "text": [
      "\n",
      "Seed: 1, Score: 0.6537876538985032\n",
      "Seed: 2, Score: 0.6367943367459634\n",
      "Seed: 3, Score: 0.643070278896716\n",
      "Seed: 4, Score: 0.6484852704053355\n",
      "Seed: 5, Score: 0.6275820376620447\n",
      "Seed: 6, Score: 0.6385564932362453\n",
      "Seed: 7, Score: 0.6322994488590652\n",
      "Seed: 8, Score: 0.6384553562757685\n",
      "Seed: 9, Score: 0.6277289223508289\n",
      "Seed: 10, Score: 0.6282316311008977\n",
      "Seed: 11, Score: 0.6364677424194262\n",
      "Seed: 12, Score: 0.62389519536296\n",
      "Seed: 13, Score: 0.6401162772388713\n",
      "Seed: 14, Score: 0.631453487476944\n",
      "Seed: 15, Score: 0.6431139307010235\n",
      "Seed: 16, Score: 0.6295913535466364\n",
      "Seed: 17, Score: 0.6379219259081762\n",
      "Seed: 18, Score: 0.6112020588275214\n",
      "Seed: 19, Score: 0.629980075531949\n",
      "Seed: 20, Score: 0.642875071799984\n",
      "Seed: 21, Score: 0.6408655408993815\n",
      "Seed: 22, Score: 0.6456507527186293\n",
      "Seed: 23, Score: 0.6386786252580402\n",
      "Seed: 24, Score: 0.6269609640919594\n",
      "Seed: 25, Score: 0.6383620190579112\n",
      "Seed: 26, Score: 0.6438286945522586\n",
      "Seed: 27, Score: 0.6359727966272104\n",
      "Seed: 28, Score: 0.6391727628357495\n",
      "Seed: 29, Score: 0.6364323121534375\n",
      "0.6359318772434391\n",
      "0.6366044786513079\n"
     ]
    }
   ],
   "source": [
    "scores = []\n",
    "train_scores = []\n",
    "for seed in range(30):\n",
    "    X_train, X_test, y_train, y_test = train_test_split(X, y, test_size=0.3, random_state=seed)\n",
    "\n",
    "    mlr = LinearRegression()\n",
    "    mlr.fit(X_train, y_train)\n",
    "    scores.append(mlr.score(X_test, y_test))\n",
    "    train_scores.append(mlr.score(X_train, y_train))\n",
    "    print(\"Seed: {}, Score: {}\".format(seed, mlr.score(X_test, y_test)))\n",
    "print(np.average(scores))\n",
    "print(np.average(train_scores))\n"
   ]
  },
  {
   "cell_type": "markdown",
   "metadata": {},
   "source": [
    "## Let's see if we can improve on that benchmark with a nerual net"
   ]
  },
  {
   "cell_type": "code",
   "execution_count": 7,
   "metadata": {},
   "outputs": [],
   "source": [
    "from sklearn.neural_network import MLPRegressor\n",
    "from sklearn.model_selection import GridSearchCV\n",
    "from sklearn.model_selection import cross_validate\n",
    "from sklearn.metrics import r2_score\n",
    "\n",
    "def mlp_model(X, Y):\n",
    "\n",
    "    estimator=MLPRegressor()\n",
    "\n",
    "\n",
    "    param_grid = {'hidden_layer_sizes': [(5, 5, 5), (20,20,20)],# (40,40,40), (20, 15, 15, 20), (19, 18, 23)],\n",
    "            'activation': ['relu', 'tanh','logistic'],\n",
    "            'alpha': [0.0001, 0.05],\n",
    "            'learning_rate': ['constant', 'adaptive'],\n",
    "            'solver': ['adam']}\n",
    "\n",
    "    gsc = GridSearchCV(\n",
    "        estimator,\n",
    "        param_grid,\n",
    "        cv=3, verbose=4, n_jobs=-1)\n",
    "\n",
    "    grid_result = gsc.fit(X, Y)\n",
    "\n",
    "    print('grid search completed')\n",
    "    best_params = grid_result.best_params_\n",
    "\n",
    "    best_mlp = MLPRegressor(hidden_layer_sizes = best_params[\"hidden_layer_sizes\"], \n",
    "                            activation =best_params[\"activation\"],\n",
    "                            solver=best_params[\"solver\"],\n",
    "                            max_iter= 500, n_iter_no_change = 100, random_state=42\n",
    "                )\n",
    "\n",
    "    scoring = {\n",
    "            'abs_error': 'neg_mean_absolute_error',\n",
    "            'squared_error': 'neg_mean_squared_error',\n",
    "            'r2':'r2'}\n",
    "\n",
    "    #scores = cross_validate(best_mlp, X, Y, cv=3, scoring=scoring, return_train_score=True, return_estimator = True)\n",
    "    scores = []\n",
    "    train_scores = []\n",
    "    for seed in range(5):\n",
    "        X_train, X_test, y_train, y_test = train_test_split(X, y, test_size=0.2, random_state=seed)\n",
    "        \n",
    "        model = MLPRegressor(hidden_layer_sizes = best_params[\"hidden_layer_sizes\"], \n",
    "                            activation =best_params[\"activation\"],\n",
    "                            solver=best_params[\"solver\"],\n",
    "                            max_iter= 1000, n_iter_no_change =100, random_state=seed\n",
    "                )\n",
    "        model.fit(X_train, y_train)\n",
    "        scores.append(model.score(X_test, y_test))\n",
    "        train_scores.append(model.score(X_train, y_train))\n",
    "        #print(\"Seed: {}, Score: {}\".format(seed, mlr.score(X_test, y_test)))\n",
    "    \n",
    "    print(np.average(scores))\n",
    "    return grid_result, scores, train_scores"
   ]
  },
  {
   "cell_type": "code",
   "execution_count": 8,
   "metadata": {},
   "outputs": [
    {
     "name": "stdout",
     "output_type": "stream",
     "text": [
      "Fitting 3 folds for each of 24 candidates, totalling 72 fits\n",
      "grid search completed\n",
      "0.6675211340148642\n"
     ]
    }
   ],
   "source": [
    "grid_result, scores, train_scores = mlp_model(X, y)"
   ]
  },
  {
   "cell_type": "code",
   "execution_count": null,
   "metadata": {},
   "outputs": [],
   "source": []
  },
  {
   "cell_type": "code",
   "execution_count": 9,
   "metadata": {},
   "outputs": [
    {
     "data": {
      "text/plain": [
       "{'activation': 'tanh',\n",
       " 'alpha': 0.05,\n",
       " 'hidden_layer_sizes': (20, 20, 20),\n",
       " 'learning_rate': 'constant',\n",
       " 'solver': 'adam'}"
      ]
     },
     "execution_count": 9,
     "metadata": {},
     "output_type": "execute_result"
    }
   ],
   "source": [
    "grid_result.best_params_"
   ]
  },
  {
   "cell_type": "code",
   "execution_count": 10,
   "metadata": {},
   "outputs": [
    {
     "data": {
      "text/plain": [
       "0.6970854922306791"
      ]
     },
     "execution_count": 10,
     "metadata": {},
     "output_type": "execute_result"
    }
   ],
   "source": [
    "np.average(train_scores)"
   ]
  },
  {
   "cell_type": "code",
   "execution_count": 11,
   "metadata": {},
   "outputs": [
    {
     "data": {
      "text/plain": [
       "0.6675211340148642"
      ]
     },
     "execution_count": 11,
     "metadata": {},
     "output_type": "execute_result"
    }
   ],
   "source": [
    "np.average(scores)"
   ]
  },
  {
   "cell_type": "code",
   "execution_count": 12,
   "metadata": {},
   "outputs": [
    {
     "data": {
      "text/plain": [
       "[0.6456311366841327,\n",
       " 0.6734177901431624,\n",
       " 0.6575006962214536,\n",
       " 0.6691237221642344,\n",
       " 0.6919323248613383]"
      ]
     },
     "execution_count": 12,
     "metadata": {},
     "output_type": "execute_result"
    }
   ],
   "source": [
    "scores"
   ]
  },
  {
   "cell_type": "code",
   "execution_count": null,
   "metadata": {},
   "outputs": [],
   "source": [
    "scores"
   ]
  },
  {
   "cell_type": "code",
   "execution_count": null,
   "metadata": {},
   "outputs": [],
   "source": [
    "scores['test_r2']"
   ]
  },
  {
   "cell_type": "code",
   "execution_count": null,
   "metadata": {},
   "outputs": [],
   "source": [
    "nr.set_up_layer_sliders()"
   ]
  },
  {
   "cell_type": "code",
   "execution_count": null,
   "metadata": {},
   "outputs": [],
   "source": [
    "nr.run_get_slider_values()"
   ]
  },
  {
   "cell_type": "code",
   "execution_count": null,
   "metadata": {},
   "outputs": [],
   "source": [
    "# run button - run with watchers of sliders, show test results - similar to linear reg\n",
    "nr.run_get_slider_values()"
   ]
  },
  {
   "cell_type": "code",
   "execution_count": null,
   "metadata": {},
   "outputs": [],
   "source": [
    "nr.main"
   ]
  },
  {
   "cell_type": "code",
   "execution_count": 3,
   "metadata": {},
   "outputs": [
    {
     "name": "stdout",
     "output_type": "stream",
     "text": [
      "0\n"
     ]
    },
    {
     "ename": "NameError",
     "evalue": "name 'train_test_split' is not defined",
     "output_type": "error",
     "traceback": [
      "\u001b[1;31m---------------------------------------------------------------------------\u001b[0m",
      "\u001b[1;31mNameError\u001b[0m                                 Traceback (most recent call last)",
      "\u001b[1;32mc:\\Users\\M93802\\Desktop\\Work\\Events\\ScienceDay_tdcnet\\workshop_03\\Neural_net_widgets.ipynb Cell 23\u001b[0m line \u001b[0;36m9\n\u001b[0;32m      <a href='vscode-notebook-cell:/c%3A/Users/M93802/Desktop/Work/Events/ScienceDay_tdcnet/workshop_03/Neural_net_widgets.ipynb#X31sZmlsZQ%3D%3D?line=6'>7</a>\u001b[0m \u001b[39mfor\u001b[39;00m seed \u001b[39min\u001b[39;00m \u001b[39mrange\u001b[39m(\u001b[39m2\u001b[39m):\n\u001b[0;32m      <a href='vscode-notebook-cell:/c%3A/Users/M93802/Desktop/Work/Events/ScienceDay_tdcnet/workshop_03/Neural_net_widgets.ipynb#X31sZmlsZQ%3D%3D?line=7'>8</a>\u001b[0m         \u001b[39mprint\u001b[39m(\u001b[39mstr\u001b[39m(seed))\n\u001b[1;32m----> <a href='vscode-notebook-cell:/c%3A/Users/M93802/Desktop/Work/Events/ScienceDay_tdcnet/workshop_03/Neural_net_widgets.ipynb#X31sZmlsZQ%3D%3D?line=8'>9</a>\u001b[0m         X_train, X_test, y_train, y_test \u001b[39m=\u001b[39m train_test_split(X, y, test_size\u001b[39m=\u001b[39m\u001b[39m0.2\u001b[39m, random_state\u001b[39m=\u001b[39mseed)\n\u001b[0;32m     <a href='vscode-notebook-cell:/c%3A/Users/M93802/Desktop/Work/Events/ScienceDay_tdcnet/workshop_03/Neural_net_widgets.ipynb#X31sZmlsZQ%3D%3D?line=10'>11</a>\u001b[0m         model \u001b[39m=\u001b[39m MLPRegressor(hidden_layer_sizes \u001b[39m=\u001b[39m(\u001b[39m60\u001b[39m, \u001b[39m60\u001b[39m, \u001b[39m60\u001b[39m), \n\u001b[0;32m     <a href='vscode-notebook-cell:/c%3A/Users/M93802/Desktop/Work/Events/ScienceDay_tdcnet/workshop_03/Neural_net_widgets.ipynb#X31sZmlsZQ%3D%3D?line=11'>12</a>\u001b[0m                             activation \u001b[39m=\u001b[39m\u001b[39m'\u001b[39m\u001b[39mrelu\u001b[39m\u001b[39m'\u001b[39m,\n\u001b[0;32m     <a href='vscode-notebook-cell:/c%3A/Users/M93802/Desktop/Work/Events/ScienceDay_tdcnet/workshop_03/Neural_net_widgets.ipynb#X31sZmlsZQ%3D%3D?line=12'>13</a>\u001b[0m                             solver\u001b[39m=\u001b[39m\u001b[39m'\u001b[39m\u001b[39madam\u001b[39m\u001b[39m'\u001b[39m,\n\u001b[0;32m     <a href='vscode-notebook-cell:/c%3A/Users/M93802/Desktop/Work/Events/ScienceDay_tdcnet/workshop_03/Neural_net_widgets.ipynb#X31sZmlsZQ%3D%3D?line=13'>14</a>\u001b[0m                             learning_rate\u001b[39m=\u001b[39m\u001b[39m'\u001b[39m\u001b[39mconstant\u001b[39m\u001b[39m'\u001b[39m,\n\u001b[0;32m     <a href='vscode-notebook-cell:/c%3A/Users/M93802/Desktop/Work/Events/ScienceDay_tdcnet/workshop_03/Neural_net_widgets.ipynb#X31sZmlsZQ%3D%3D?line=14'>15</a>\u001b[0m                             max_iter\u001b[39m=\u001b[39m \u001b[39m500\u001b[39m, n_iter_no_change \u001b[39m=\u001b[39m\u001b[39m100\u001b[39m, random_state\u001b[39m=\u001b[39mseed\n\u001b[0;32m     <a href='vscode-notebook-cell:/c%3A/Users/M93802/Desktop/Work/Events/ScienceDay_tdcnet/workshop_03/Neural_net_widgets.ipynb#X31sZmlsZQ%3D%3D?line=15'>16</a>\u001b[0m                 )\n\u001b[0;32m     <a href='vscode-notebook-cell:/c%3A/Users/M93802/Desktop/Work/Events/ScienceDay_tdcnet/workshop_03/Neural_net_widgets.ipynb#X31sZmlsZQ%3D%3D?line=16'>17</a>\u001b[0m         model\u001b[39m.\u001b[39mfit(X_train, y_train)\n",
      "\u001b[1;31mNameError\u001b[0m: name 'train_test_split' is not defined"
     ]
    }
   ],
   "source": [
    "from sklearn.metrics import mean_absolute_error\n",
    "from sklearn.neural_network import MLPRegressor\n",
    "\n",
    "scores = []\n",
    "mae_scores=[]\n",
    "train_scores=[]\n",
    "for seed in range(2):\n",
    "        print(str(seed))\n",
    "        X_train, X_test, y_train, y_test = train_test_split(X, y, test_size=0.2, random_state=seed)\n",
    "        \n",
    "        model = MLPRegressor(hidden_layer_sizes =(60, 60, 60), \n",
    "                            activation ='relu',\n",
    "                            solver='adam',\n",
    "                            learning_rate='constant',\n",
    "                            max_iter= 500, n_iter_no_change =100, random_state=seed\n",
    "                )\n",
    "        model.fit(X_train, y_train)\n",
    "        y_pred = model.predict(X_test)\n",
    "        mae = mean_absolute_error(y_test, y_pred)\n",
    "        mae_scores.append(mae)\n",
    "        scores.append(model.score(X_test, y_test))\n",
    "        train_scores.append(model.score(X_train, y_train))\n",
    "        #print(\"Seed: {}, Score: {}\".format(seed, mlr.score(X_test, y_test)))\n",
    "\n",
    "print(np.average(scores))"
   ]
  },
  {
   "cell_type": "code",
   "execution_count": 15,
   "metadata": {},
   "outputs": [
    {
     "data": {
      "text/plain": [
       "[0.6368380326012488, 0.6278386409631944]"
      ]
     },
     "execution_count": 15,
     "metadata": {},
     "output_type": "execute_result"
    }
   ],
   "source": [
    "scores"
   ]
  },
  {
   "cell_type": "code",
   "execution_count": 16,
   "metadata": {},
   "outputs": [
    {
     "data": {
      "text/plain": [
       "[1.0665475272207048, 1.09652056118331]"
      ]
     },
     "execution_count": 16,
     "metadata": {},
     "output_type": "execute_result"
    }
   ],
   "source": [
    "mae_scores"
   ]
  },
  {
   "cell_type": "code",
   "execution_count": 17,
   "metadata": {},
   "outputs": [
    {
     "data": {
      "text/plain": [
       "[0.7419694068801929, 0.7439410103190577]"
      ]
     },
     "execution_count": 17,
     "metadata": {},
     "output_type": "execute_result"
    }
   ],
   "source": [
    "train_scores"
   ]
  },
  {
   "cell_type": "code",
   "execution_count": 26,
   "metadata": {},
   "outputs": [
    {
     "name": "stdout",
     "output_type": "stream",
     "text": [
      "0\n",
      "1\n",
      "0.6644857455204309\n"
     ]
    }
   ],
   "source": [
    "scores = []\n",
    "mae_scores=[]\n",
    "train_scores=[]\n",
    "for seed in range(2):\n",
    "        print(str(seed))\n",
    "        X_train, X_test, y_train, y_test = train_test_split(X, y, test_size=0.2, random_state=seed)\n",
    "        \n",
    "        model = MLPRegressor(hidden_layer_sizes =(20, 20, 20), \n",
    "                            activation ='relu',\n",
    "                            solver='adam',\n",
    "                            learning_rate='constant',\n",
    "                            max_iter= 1200, n_iter_no_change =100, random_state=seed\n",
    "                )\n",
    "        model.fit(X_train, y_train)\n",
    "        y_pred = model.predict(X_test)\n",
    "        mae = mean_absolute_error(y_test, y_pred)\n",
    "        mae_scores.append(mae)\n",
    "        scores.append(model.score(X_test, y_test))\n",
    "        train_scores.append(model.score(X_train, y_train))\n",
    "        #print(\"Seed: {}, Score: {}\".format(seed, mlr.score(X_test, y_test)))\n",
    "\n",
    "print(np.average(scores))"
   ]
  },
  {
   "cell_type": "code",
   "execution_count": 27,
   "metadata": {},
   "outputs": [
    {
     "data": {
      "text/plain": [
       "[1.0344818566755567, 1.0386097813579158]"
      ]
     },
     "execution_count": 27,
     "metadata": {},
     "output_type": "execute_result"
    }
   ],
   "source": [
    "mae_scores"
   ]
  },
  {
   "cell_type": "code",
   "execution_count": 28,
   "metadata": {},
   "outputs": [
    {
     "data": {
      "text/plain": [
       "[0.7008449027182735, 0.7028561381885705]"
      ]
     },
     "execution_count": 28,
     "metadata": {},
     "output_type": "execute_result"
    }
   ],
   "source": [
    "train_scores"
   ]
  },
  {
   "cell_type": "code",
   "execution_count": 25,
   "metadata": {},
   "outputs": [
    {
     "data": {
      "text/plain": [
       "[0.664144742064494, 0.6798226936920146]"
      ]
     },
     "execution_count": 25,
     "metadata": {},
     "output_type": "execute_result"
    }
   ],
   "source": [
    "scores"
   ]
  },
  {
   "cell_type": "code",
   "execution_count": null,
   "metadata": {},
   "outputs": [],
   "source": []
  }
 ],
 "metadata": {
  "kernelspec": {
   "display_name": "Python 3",
   "language": "python",
   "name": "python3"
  },
  "language_info": {
   "codemirror_mode": {
    "name": "ipython",
    "version": 3
   },
   "file_extension": ".py",
   "mimetype": "text/x-python",
   "name": "python",
   "nbconvert_exporter": "python",
   "pygments_lexer": "ipython3",
   "version": "3.10.5"
  },
  "orig_nbformat": 4
 },
 "nbformat": 4,
 "nbformat_minor": 2
}
