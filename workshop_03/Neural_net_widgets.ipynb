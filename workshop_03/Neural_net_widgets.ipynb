{
 "cells": [
  {
   "cell_type": "markdown",
   "metadata": {},
   "source": [
    "# Machine Learning in action - Underfitting vs overfitting\n",
    "Parameters to play with: \n",
    "\n",
    "1) Linear regression vs neural net\n",
    "2) Size - max: 3 layers, 30 nodes each\n",
    "2) Train test split and no of iterations - overfitting/underfitting\n",
    "\n",
    "Run button\n",
    "Feedback: overfitting/underfitting - 2 plots, train actual vs predicted, test actual vs predicted  + written feedback + table of best params (use same as notebook 1)\n",
    "Return to best model (optional)\n"
   ]
  },
  {
   "cell_type": "markdown",
   "metadata": {},
   "source": [
    "## Establish a benchmark: linear regression with optimal train/test split"
   ]
  },
  {
   "cell_type": "code",
   "execution_count": 1,
   "metadata": {},
   "outputs": [
    {
     "name": "stdout",
     "output_type": "stream",
     "text": [
      "Imports done\n",
      "Imports done\n",
      "Prepared data\n"
     ]
    },
    {
     "name": "stdout",
     "output_type": "stream",
     "text": [
      "Training your neural net\n",
      "Ready!\n",
      "Training your neural net\n",
      "Ready!\n"
     ]
    }
   ],
   "source": [
    "%matplotlib widget\n",
    "import Neural_net_scripts as nr\n",
    "from sklearn.linear_model import LinearRegression"
   ]
  },
  {
   "cell_type": "code",
   "execution_count": 2,
   "metadata": {},
   "outputs": [
    {
     "data": {
      "application/vnd.jupyter.widget-view+json": {
       "model_id": "4a48e41f7aab4b9a90093157dcfa3e37",
       "version_major": 2,
       "version_minor": 0
      },
      "text/plain": [
       "HBox(children=(VBox(children=(HBox(children=(VBox(children=(HTML(value='Layer 1'), HTML(value='Layer 2'), HTML…"
      ]
     },
     "execution_count": 2,
     "metadata": {},
     "output_type": "execute_result"
    }
   ],
   "source": [
    "nr.main"
   ]
  },
  {
   "cell_type": "code",
   "execution_count": 3,
   "metadata": {},
   "outputs": [
    {
     "ename": "NameError",
     "evalue": "name 'prediction_log' is not defined",
     "output_type": "error",
     "traceback": [
      "\u001b[1;31m---------------------------------------------------------------------------\u001b[0m",
      "\u001b[1;31mNameError\u001b[0m                                 Traceback (most recent call last)",
      "\u001b[1;32mc:\\Users\\M93802\\Desktop\\Work\\Events\\ScienceDay_tdcnet\\workshop_03\\Neural_net_widgets.ipynb Cell 5\u001b[0m line \u001b[0;36m1\n\u001b[1;32m----> <a href='vscode-notebook-cell:/c%3A/Users/M93802/Desktop/Work/Events/ScienceDay_tdcnet/workshop_03/Neural_net_widgets.ipynb#X40sZmlsZQ%3D%3D?line=0'>1</a>\u001b[0m prediction_log\n",
      "\u001b[1;31mNameError\u001b[0m: name 'prediction_log' is not defined"
     ]
    }
   ],
   "source": [
    "prediction_log"
   ]
  },
  {
   "cell_type": "code",
   "execution_count": null,
   "metadata": {},
   "outputs": [],
   "source": [
    "df_raw = nr.fetch_data()\n",
    "target_var = 'Mobile_Traffic'"
   ]
  },
  {
   "cell_type": "code",
   "execution_count": null,
   "metadata": {},
   "outputs": [],
   "source": [
    "from sklearn.model_selection import train_test_split\n",
    "from sklearn.linear_model import LinearRegression\n",
    "import numpy as np\n",
    "\n",
    "X = df_raw.drop(target_var, axis=1).values\n",
    "y = df_raw[target_var].values\n",
    "\n",
    "scores = []\n",
    "for seed in range(30):\n",
    "    X_train, X_test, y_train, y_test = train_test_split(X, y, test_size=0.6, random_state=seed)\n",
    "\n",
    "    mlr = LinearRegression()\n",
    "    mlr.fit(X_train, y_train)\n",
    "    scores.append(mlr.score(X_test, y_test))\n",
    "    print(\"Seed: {}, Score: {}\".format(seed, mlr.score(X_test, y_test)))\n",
    "print(np.average(scores))"
   ]
  },
  {
   "cell_type": "code",
   "execution_count": null,
   "metadata": {},
   "outputs": [],
   "source": [
    "scores = []\n",
    "train_scores = []\n",
    "for seed in range(30):\n",
    "    X_train, X_test, y_train, y_test = train_test_split(X, y, test_size=0.3, random_state=seed)\n",
    "\n",
    "    mlr = LinearRegression()\n",
    "    mlr.fit(X_train, y_train)\n",
    "    scores.append(mlr.score(X_test, y_test))\n",
    "    train_scores.append(mlr.score(X_train, y_train))\n",
    "    print(\"Seed: {}, Score: {}\".format(seed, mlr.score(X_test, y_test)))\n",
    "print(np.average(scores))\n",
    "print(np.average(train_scores))\n"
   ]
  },
  {
   "cell_type": "markdown",
   "metadata": {},
   "source": [
    "## Let's see if we can improve on that benchmark with a nerual net"
   ]
  },
  {
   "cell_type": "code",
   "execution_count": null,
   "metadata": {},
   "outputs": [],
   "source": [
    "from sklearn.neural_network import MLPRegressor\n",
    "from sklearn.model_selection import GridSearchCV\n",
    "from sklearn.model_selection import cross_validate\n",
    "from sklearn.metrics import r2_score\n",
    "\n",
    "def mlp_model(X, Y):\n",
    "\n",
    "    estimator=MLPRegressor()\n",
    "\n",
    "\n",
    "    param_grid = {'hidden_layer_sizes': [(40,40,40)],#(20,20,20), (20, 15, 15, 20), (19, 18, 23)],\n",
    "            'activation': ['relu'], #'tanh','logistic'],\n",
    "            'alpha': [0.0001], # 0.05],\n",
    "            'learning_rate': ['constant'],#'adaptive'],\n",
    "            'solver': ['adam']}\n",
    "\n",
    "    gsc = GridSearchCV(\n",
    "        estimator,\n",
    "        param_grid,\n",
    "        cv=3, verbose=4, n_jobs=-1)\n",
    "\n",
    "    grid_result = gsc.fit(X, Y)\n",
    "\n",
    "    print('grid search completed')\n",
    "    best_params = grid_result.best_params_\n",
    "\n",
    "    best_mlp = MLPRegressor(hidden_layer_sizes = best_params[\"hidden_layer_sizes\"], \n",
    "                            activation =best_params[\"activation\"],\n",
    "                            solver=best_params[\"solver\"],\n",
    "                            max_iter= 1000, n_iter_no_change = 100, random_state=42\n",
    "                )\n",
    "\n",
    "    scoring = {\n",
    "            'abs_error': 'neg_mean_absolute_error',\n",
    "            'squared_error': 'neg_mean_squared_error',\n",
    "            'r2':'r2'}\n",
    "\n",
    "    #scores = cross_validate(best_mlp, X, Y, cv=3, scoring=scoring, return_train_score=True, return_estimator = True)\n",
    "    scores = []\n",
    "    train_scores = []\n",
    "    for seed in range(30):\n",
    "        X_train, X_test, y_train, y_test = train_test_split(X, y, test_size=0.5, random_state=seed)\n",
    "        \n",
    "        model = MLPRegressor(hidden_layer_sizes = best_params[\"hidden_layer_sizes\"], \n",
    "                            activation =best_params[\"activation\"],\n",
    "                            solver=best_params[\"solver\"],\n",
    "                            max_iter= 1000, n_iter_no_change =100, random_state=seed\n",
    "                )\n",
    "        model.fit(X_train, y_train)\n",
    "        scores.append(model.score(X_test, y_test))\n",
    "        train_scores.append(model.score(X_train, y_train))\n",
    "        #print(\"Seed: {}, Score: {}\".format(seed, mlr.score(X_test, y_test)))\n",
    "    \n",
    "    print(np.average(scores))\n",
    "    return grid_result, scores, train_scores"
   ]
  },
  {
   "cell_type": "code",
   "execution_count": null,
   "metadata": {},
   "outputs": [],
   "source": [
    "grid_result, scores, train_scores = mlp_model(X, y)"
   ]
  },
  {
   "cell_type": "code",
   "execution_count": null,
   "metadata": {},
   "outputs": [],
   "source": [
    "grid_result.best_params_"
   ]
  },
  {
   "cell_type": "code",
   "execution_count": null,
   "metadata": {},
   "outputs": [],
   "source": [
    "np.average(train_scores)"
   ]
  },
  {
   "cell_type": "code",
   "execution_count": null,
   "metadata": {},
   "outputs": [],
   "source": [
    "np.average(scores)"
   ]
  },
  {
   "cell_type": "code",
   "execution_count": null,
   "metadata": {},
   "outputs": [],
   "source": [
    "scores"
   ]
  },
  {
   "cell_type": "code",
   "execution_count": null,
   "metadata": {},
   "outputs": [],
   "source": [
    "scores"
   ]
  },
  {
   "cell_type": "code",
   "execution_count": null,
   "metadata": {},
   "outputs": [],
   "source": [
    "scores['test_r2']"
   ]
  },
  {
   "cell_type": "code",
   "execution_count": null,
   "metadata": {},
   "outputs": [],
   "source": [
    "nr.set_up_layer_sliders()"
   ]
  },
  {
   "cell_type": "code",
   "execution_count": null,
   "metadata": {},
   "outputs": [],
   "source": [
    "nr.run_get_slider_values()"
   ]
  },
  {
   "cell_type": "code",
   "execution_count": null,
   "metadata": {},
   "outputs": [],
   "source": [
    "# run button - run with watchers of sliders, show test results - similar to linear reg\n",
    "nr.run_get_slider_values()"
   ]
  },
  {
   "cell_type": "code",
   "execution_count": null,
   "metadata": {},
   "outputs": [],
   "source": [
    "nr.main"
   ]
  },
  {
   "cell_type": "code",
   "execution_count": null,
   "metadata": {},
   "outputs": [],
   "source": []
  },
  {
   "cell_type": "code",
   "execution_count": null,
   "metadata": {},
   "outputs": [],
   "source": []
  }
 ],
 "metadata": {
  "kernelspec": {
   "display_name": "Python 3",
   "language": "python",
   "name": "python3"
  },
  "language_info": {
   "codemirror_mode": {
    "name": "ipython",
    "version": 3
   },
   "file_extension": ".py",
   "mimetype": "text/x-python",
   "name": "python",
   "nbconvert_exporter": "python",
   "pygments_lexer": "ipython3",
   "version": "3.10.5"
  },
  "orig_nbformat": 4
 },
 "nbformat": 4,
 "nbformat_minor": 2
}
