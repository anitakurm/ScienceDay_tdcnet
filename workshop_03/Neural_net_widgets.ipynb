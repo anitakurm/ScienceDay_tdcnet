{
 "cells": [
  {
   "cell_type": "markdown",
   "metadata": {},
   "source": [
    "# Machine Learning in action - Underfitting vs overfitting\n",
    "Parameters to play with: \n",
    "\n",
    "1) Linear regression vs neural net\n",
    "2) Size - max: 3 layers, 30 nodes each\n",
    "2) Train test split and no of iterations - overfitting/underfitting\n",
    "\n",
    "Run button\n",
    "Feedback: overfitting/underfitting - 2 plots, train actual vs predicted, test actual vs predicted  + written feedback + table of best params (use same as notebook 1)\n",
    "Return to best model (optional)\n",
    "\n",
    "Remedies: \n"
   ]
  },
  {
   "cell_type": "markdown",
   "metadata": {},
   "source": [
    "## Establish a benchmark: linear regression with optimal train/test split"
   ]
  },
  {
   "cell_type": "code",
   "execution_count": 1,
   "metadata": {},
   "outputs": [
    {
     "name": "stdout",
     "output_type": "stream",
     "text": [
      "Imports done\n"
     ]
    },
    {
     "data": {
      "application/vnd.jupyter.widget-view+json": {
       "model_id": "9956e99d630e4a7dac84ea0a415e6838",
       "version_major": 2,
       "version_minor": 0
      },
      "text/plain": [
       "VBox(children=(HTML(value='<div style=\"font-size: 2em; font-weight: bold;display: flex;justify-content: center…"
      ]
     },
     "execution_count": 1,
     "metadata": {},
     "output_type": "execute_result"
    }
   ],
   "source": [
    "%matplotlib widget\n",
    "import Neural_net_scripts as nr\n",
    "nr.main"
   ]
  }
 ],
 "metadata": {
  "kernelspec": {
   "display_name": "Python 3",
   "language": "python",
   "name": "python3"
  },
  "language_info": {
   "codemirror_mode": {
    "name": "ipython",
    "version": 3
   },
   "file_extension": ".py",
   "mimetype": "text/x-python",
   "name": "python",
   "nbconvert_exporter": "python",
   "pygments_lexer": "ipython3",
   "version": "3.10.5"
  },
  "orig_nbformat": 4
 },
 "nbformat": 4,
 "nbformat_minor": 2
}
