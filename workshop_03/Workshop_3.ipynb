{
 "cells": [
  {
   "cell_type": "code",
   "execution_count": null,
   "metadata": {},
   "outputs": [],
   "source": [
    "%matplotlib widget\n",
    "import new_final as new\n",
    "new.main"
   ]
  },
  {
   "cell_type": "code",
   "execution_count": 1,
   "metadata": {},
   "outputs": [
    {
     "name": "stdout",
     "output_type": "stream",
     "text": [
      "Imports done\n",
      "Index(['Mobile_Traffic', 'Time_Spend_On_YouTube_min',\n",
      "       'Time_Spend_On_TikTok_min', 'Time_Spend_On_Instagram_min',\n",
      "       'Time_Spend_On_Spotify_min', 'Size_of_home_m2', 'Occupation',\n",
      "       'Family_Type', 'Family_Interest', 'House_Type', 'Number_Of_Residents',\n",
      "       'Average_Age', 'Distance_To_Nearest_Tower_m', 'Number_Of_Phones',\n",
      "       'Number_Of_Computers', 'Number_Of_Tvs', 'Number_Of_Pets',\n",
      "       'Customer_Happiness'],\n",
      "      dtype='object')\n"
     ]
    },
    {
     "data": {
      "application/vnd.jupyter.widget-view+json": {
       "model_id": "a8442cb79d4d4409b90963716ceeb3bd",
       "version_major": 2,
       "version_minor": 0
      },
      "text/plain": [
       "VBox(children=(HTML(value='<div style=\"font-size: 2em; font-weight: bold;display: flex;justify-content: center…"
      ]
     },
     "execution_count": 1,
     "metadata": {},
     "output_type": "execute_result"
    }
   ],
   "source": [
    "%matplotlib widget\n",
    "import decisiontree as decision\n",
    "decision.main"
   ]
  },
  {
   "cell_type": "code",
   "execution_count": null,
   "metadata": {},
   "outputs": [],
   "source": [
    "%matplotlib widget\n",
    "import neuralnet as nn\n",
    "nn.main"
   ]
  },
  {
   "cell_type": "code",
   "execution_count": null,
   "metadata": {},
   "outputs": [],
   "source": []
  }
 ],
 "metadata": {
  "kernelspec": {
   "display_name": "Python 3",
   "language": "python",
   "name": "python3"
  },
  "language_info": {
   "codemirror_mode": {
    "name": "ipython",
    "version": 3
   },
   "file_extension": ".py",
   "mimetype": "text/x-python",
   "name": "python",
   "nbconvert_exporter": "python",
   "pygments_lexer": "ipython3",
   "version": "3.10.5"
  }
 },
 "nbformat": 4,
 "nbformat_minor": 2
}
