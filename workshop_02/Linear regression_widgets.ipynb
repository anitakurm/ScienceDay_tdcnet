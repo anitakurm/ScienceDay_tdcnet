{
 "cells": [
  {
   "cell_type": "code",
   "execution_count": 3,
   "metadata": {},
   "outputs": [
    {
     "ename": "NameError",
     "evalue": "name 'df' is not defined",
     "output_type": "error",
     "traceback": [
      "\u001b[1;31m---------------------------------------------------------------------------\u001b[0m",
      "\u001b[1;31mNameError\u001b[0m                                 Traceback (most recent call last)",
      "\u001b[1;32mc:\\Users\\M93802\\Desktop\\Work\\Events\\ScienceDay_tdcnet\\Workshop Notebook 1 Linear Regression\\Linear regression_widgets.ipynb Cell 1\u001b[0m line \u001b[0;36m1\n\u001b[1;32m----> <a href='vscode-notebook-cell:/c%3A/Users/M93802/Desktop/Work/Events/ScienceDay_tdcnet/Workshop%20Notebook%201%20Linear%20Regression/Linear%20regression_widgets.ipynb#W0sZmlsZQ%3D%3D?line=0'>1</a>\u001b[0m \u001b[39mimport\u001b[39;00m \u001b[39mLinear_regression_scripts\u001b[39;00m \u001b[39mas\u001b[39;00m \u001b[39mlr\u001b[39;00m\n",
      "File \u001b[1;32mc:\\Users\\M93802\\Desktop\\Work\\Events\\ScienceDay_tdcnet\\Workshop Notebook 1 Linear Regression\\Linear_regression_scripts.py:96\u001b[0m\n\u001b[0;32m     84\u001b[0m   \u001b[39mreturn\u001b[39;00m df_weights\n\u001b[0;32m     87\u001b[0m \u001b[39m# COMMAND ----------\u001b[39;00m\n\u001b[0;32m     88\u001b[0m \n\u001b[0;32m     89\u001b[0m \n\u001b[1;32m   (...)\u001b[0m\n\u001b[0;32m     94\u001b[0m \u001b[39m# MAGIC ## Create manual linear regression using user input\u001b[39;00m\n\u001b[0;32m     95\u001b[0m  \u001b[39m# standardizing dataframe so coefficients are -1 and 1\u001b[39;00m\n\u001b[1;32m---> 96\u001b[0m df_z \u001b[39m=\u001b[39m df\u001b[39m.\u001b[39mselect_dtypes(include\u001b[39m=\u001b[39m[np\u001b[39m.\u001b[39mnumber])\u001b[39m.\u001b[39mdropna()\u001b[39m.\u001b[39mapply(stats\u001b[39m.\u001b[39mzscore)\n\u001b[0;32m     98\u001b[0m \u001b[39m# COMMAND ----------\u001b[39;00m\n\u001b[0;32m     99\u001b[0m \n\u001b[0;32m    100\u001b[0m \u001b[39m# Store mean and std to transform back \u001b[39;00m\n\u001b[0;32m    101\u001b[0m mean_std\u001b[39m=\u001b[39m{}\n",
      "\u001b[1;31mNameError\u001b[0m: name 'df' is not defined"
     ]
    }
   ],
   "source": [
    "import Linear_regression_scripts as lr"
   ]
  },
  {
   "cell_type": "code",
   "execution_count": 3,
   "metadata": {},
   "outputs": [
    {
     "ename": "NameError",
     "evalue": "name 'lr' is not defined",
     "output_type": "error",
     "traceback": [
      "\u001b[1;31m---------------------------------------------------------------------------\u001b[0m",
      "\u001b[1;31mNameError\u001b[0m                                 Traceback (most recent call last)",
      "\u001b[1;32mc:\\Users\\M93802\\Desktop\\Work\\Events\\ScienceDay_tdcnet\\Workshop Notebook 1 Linear Regression\\Linear regression_widgets.ipynb Cell 2\u001b[0m line \u001b[0;36m1\n\u001b[1;32m----> <a href='vscode-notebook-cell:/c%3A/Users/M93802/Desktop/Work/Events/ScienceDay_tdcnet/Workshop%20Notebook%201%20Linear%20Regression/Linear%20regression_widgets.ipynb#W1sZmlsZQ%3D%3D?line=0'>1</a>\u001b[0m lr\u001b[39m.\u001b[39mfetch_data()\n",
      "\u001b[1;31mNameError\u001b[0m: name 'lr' is not defined"
     ]
    }
   ],
   "source": [
    "lr.fetch_data()"
   ]
  },
  {
   "cell_type": "code",
   "execution_count": 4,
   "metadata": {},
   "outputs": [
    {
     "ename": "NameError",
     "evalue": "name 'lr' is not defined",
     "output_type": "error",
     "traceback": [
      "\u001b[1;31m---------------------------------------------------------------------------\u001b[0m",
      "\u001b[1;31mNameError\u001b[0m                                 Traceback (most recent call last)",
      "\u001b[1;32mc:\\Users\\M93802\\Desktop\\Work\\Events\\ScienceDay_tdcnet\\Workshop Notebook 1 Linear Regression\\Linear regression_widgets.ipynb Cell 3\u001b[0m line \u001b[0;36m1\n\u001b[1;32m----> <a href='vscode-notebook-cell:/c%3A/Users/M93802/Desktop/Work/Events/ScienceDay_tdcnet/Workshop%20Notebook%201%20Linear%20Regression/Linear%20regression_widgets.ipynb#W2sZmlsZQ%3D%3D?line=0'>1</a>\u001b[0m lr\u001b[39m.\u001b[39mset_up_sliders()\n",
      "\u001b[1;31mNameError\u001b[0m: name 'lr' is not defined"
     ]
    }
   ],
   "source": [
    "lr.set_up_sliders()"
   ]
  },
  {
   "cell_type": "code",
   "execution_count": null,
   "metadata": {},
   "outputs": [],
   "source": []
  }
 ],
 "metadata": {
  "kernelspec": {
   "display_name": "Python 3",
   "language": "python",
   "name": "python3"
  },
  "language_info": {
   "codemirror_mode": {
    "name": "ipython",
    "version": 3
   },
   "file_extension": ".py",
   "mimetype": "text/x-python",
   "name": "python",
   "nbconvert_exporter": "python",
   "pygments_lexer": "ipython3",
   "version": "3.10.5"
  },
  "orig_nbformat": 4
 },
 "nbformat": 4,
 "nbformat_minor": 2
}
