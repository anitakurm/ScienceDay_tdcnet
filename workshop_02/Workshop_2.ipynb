{
 "cells": [
  {
   "cell_type": "code",
   "execution_count": 7,
   "id": "6bdd507c-0c71-4cc1-9869-e668776e22a0",
   "metadata": {},
   "outputs": [],
   "source": [
    "%matplotlib widget\n",
    "import script as s"
   ]
  },
  {
   "cell_type": "code",
   "execution_count": 8,
   "id": "58a322de-f425-4aa5-a5ec-e334a72700f7",
   "metadata": {},
   "outputs": [
    {
     "data": {
      "application/vnd.jupyter.widget-view+json": {
       "model_id": "cd5bc170e17b415597280e556f0dc3dd",
       "version_major": 2,
       "version_minor": 0
      },
      "text/plain": [
       "HBox(children=(VBox(children=(HBox(children=(VBox(children=(HTML(value='Occupation'), HTML(value='Family Type'…"
      ]
     },
     "execution_count": 8,
     "metadata": {},
     "output_type": "execute_result"
    }
   ],
   "source": [
    "s.main"
   ]
  },
  {
   "cell_type": "code",
   "execution_count": 9,
   "id": "e0e28fea-371e-4758-9ff1-d0d24a712dc0",
   "metadata": {},
   "outputs": [
    {
     "data": {
      "text/html": [
       "<div>\n",
       "<style scoped>\n",
       "    .dataframe tbody tr th:only-of-type {\n",
       "        vertical-align: middle;\n",
       "    }\n",
       "\n",
       "    .dataframe tbody tr th {\n",
       "        vertical-align: top;\n",
       "    }\n",
       "\n",
       "    .dataframe thead th {\n",
       "        text-align: right;\n",
       "    }\n",
       "</style>\n",
       "<table border=\"1\" class=\"dataframe\">\n",
       "  <thead>\n",
       "    <tr style=\"text-align: right;\">\n",
       "      <th></th>\n",
       "      <th>0</th>\n",
       "      <th>1</th>\n",
       "      <th>2</th>\n",
       "      <th>3</th>\n",
       "      <th>4</th>\n",
       "    </tr>\n",
       "  </thead>\n",
       "  <tbody>\n",
       "    <tr>\n",
       "      <th>0</th>\n",
       "      <td>2023-09-25 22:42:32.656043</td>\n",
       "      <td>{'Occupation': 0.0, 'Family Type': 0.3, 'Famil...</td>\n",
       "      <td>0       8.214817\n",
       "1      12.689354\n",
       "2       8.97...</td>\n",
       "      <td>43.01</td>\n",
       "      <td>3.77</td>\n",
       "    </tr>\n",
       "    <tr>\n",
       "      <th>1</th>\n",
       "      <td>2023-09-25 22:42:38.483802</td>\n",
       "      <td>{'Occupation': 0.0, 'Family Type': 0.3, 'Famil...</td>\n",
       "      <td>0       8.576474\n",
       "1       7.647444\n",
       "2      12.11...</td>\n",
       "      <td>52.95</td>\n",
       "      <td>4.53</td>\n",
       "    </tr>\n",
       "    <tr>\n",
       "      <th>2</th>\n",
       "      <td>2023-09-25 22:43:58.002182</td>\n",
       "      <td>{'Occupation': 0.0, 'Family Type': 0.3, 'Famil...</td>\n",
       "      <td>0      16.089851\n",
       "1      13.377779\n",
       "2       8.92...</td>\n",
       "      <td>47.67</td>\n",
       "      <td>4.23</td>\n",
       "    </tr>\n",
       "    <tr>\n",
       "      <th>3</th>\n",
       "      <td>2023-09-25 22:44:09.867070</td>\n",
       "      <td>{'Occupation': 0.0, 'Family Type': 0.3, 'Famil...</td>\n",
       "      <td>0      15.552347\n",
       "1      10.496925\n",
       "2       5.45...</td>\n",
       "      <td>75.78</td>\n",
       "      <td>6.62</td>\n",
       "    </tr>\n",
       "  </tbody>\n",
       "</table>\n",
       "</div>"
      ],
      "text/plain": [
       "                           0  \\\n",
       "0 2023-09-25 22:42:32.656043   \n",
       "1 2023-09-25 22:42:38.483802   \n",
       "2 2023-09-25 22:43:58.002182   \n",
       "3 2023-09-25 22:44:09.867070   \n",
       "\n",
       "                                                   1  \\\n",
       "0  {'Occupation': 0.0, 'Family Type': 0.3, 'Famil...   \n",
       "1  {'Occupation': 0.0, 'Family Type': 0.3, 'Famil...   \n",
       "2  {'Occupation': 0.0, 'Family Type': 0.3, 'Famil...   \n",
       "3  {'Occupation': 0.0, 'Family Type': 0.3, 'Famil...   \n",
       "\n",
       "                                                   2      3     4  \n",
       "0  0       8.214817\n",
       "1      12.689354\n",
       "2       8.97...  43.01  3.77  \n",
       "1  0       8.576474\n",
       "1       7.647444\n",
       "2      12.11...  52.95  4.53  \n",
       "2  0      16.089851\n",
       "1      13.377779\n",
       "2       8.92...  47.67  4.23  \n",
       "3  0      15.552347\n",
       "1      10.496925\n",
       "2       5.45...  75.78  6.62  "
      ]
     },
     "execution_count": 9,
     "metadata": {},
     "output_type": "execute_result"
    }
   ],
   "source": [
    "s.pd.DataFrame(s.prediction_log)"
   ]
  },
  {
   "cell_type": "code",
   "execution_count": null,
   "id": "4696ef04-2a2d-4d47-a140-c106af5ddd03",
   "metadata": {},
   "outputs": [],
   "source": []
  }
 ],
 "metadata": {
  "kernelspec": {
   "display_name": "Python 3 (ipykernel)",
   "language": "python",
   "name": "python3"
  },
  "language_info": {
   "codemirror_mode": {
    "name": "ipython",
    "version": 3
   },
   "file_extension": ".py",
   "mimetype": "text/x-python",
   "name": "python",
   "nbconvert_exporter": "python",
   "pygments_lexer": "ipython3",
   "version": "3.10.6"
  }
 },
 "nbformat": 4,
 "nbformat_minor": 5
}
