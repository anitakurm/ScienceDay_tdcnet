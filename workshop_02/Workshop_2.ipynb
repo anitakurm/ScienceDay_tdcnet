{
 "cells": [
  {
   "cell_type": "code",
   "execution_count": null,
   "id": "6bdd507c-0c71-4cc1-9869-e668776e22a0",
   "metadata": {},
   "outputs": [],
   "source": [
    "%matplotlib widget\n",
    "import script as s"
   ]
  },
  {
   "cell_type": "code",
   "execution_count": null,
   "id": "58a322de-f425-4aa5-a5ec-e334a72700f7",
   "metadata": {},
   "outputs": [],
   "source": [
    "s.main"
   ]
  },
  {
   "cell_type": "code",
   "execution_count": null,
   "id": "e0e28fea-371e-4758-9ff1-d0d24a712dc0",
   "metadata": {},
   "outputs": [],
   "source": [
    "s.pd.DataFrame(s.prediction_log)"
   ]
  },
  {
   "cell_type": "code",
   "execution_count": null,
   "id": "4696ef04-2a2d-4d47-a140-c106af5ddd03",
   "metadata": {},
   "outputs": [],
   "source": []
  }
 ],
 "metadata": {
  "kernelspec": {
   "display_name": "Python 3 (ipykernel)",
   "language": "python",
   "name": "python3"
  },
  "language_info": {
   "codemirror_mode": {
    "name": "ipython",
    "version": 3
   },
   "file_extension": ".py",
   "mimetype": "text/x-python",
   "name": "python",
   "nbconvert_exporter": "python",
   "pygments_lexer": "ipython3",
   "version": "3.10.6"
  }
 },
 "nbformat": 4,
 "nbformat_minor": 5
}
