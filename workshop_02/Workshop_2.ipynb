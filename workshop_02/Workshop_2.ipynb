{
 "cells": [
  {
   "cell_type": "markdown",
   "id": "5ae3eebd-0a6d-40d5-95f8-6b7ff009ae21",
   "metadata": {},
   "source": [
    "# Workshop 02 - Science Day at TDC NET - 02 October 2024"
   ]
  },
  {
   "cell_type": "markdown",
   "id": "a8b35b2d-52b6-4438-95bc-7513413762aa",
   "metadata": {},
   "source": [
    "Run the cell by pressing \"Shift+Enter\"\n"
   ]
  },
  {
   "cell_type": "code",
   "execution_count": 1,
   "id": "58d98868-f089-4c05-aabb-de8aa2f147e5",
   "metadata": {},
   "outputs": [
    {
     "name": "stdout",
     "output_type": "stream",
     "text": [
      "Importing modules\n",
      "Imports done\n",
      "Prepared data\n",
      "Creating graphs\n"
     ]
    },
    {
     "data": {
      "application/vnd.jupyter.widget-view+json": {
       "model_id": "bfeb6c4407ea4ede92ce2f86c395a94b",
       "version_major": 2,
       "version_minor": 0
      },
      "text/plain": [
       "VBox(children=(HTML(value='<div style=\"font-size: 2em; font-weight: bold;display: flex;justify-content: center…"
      ]
     },
     "execution_count": 1,
     "metadata": {},
     "output_type": "execute_result"
    }
   ],
   "source": [
    "%matplotlib widget\n",
    "import script as s\n",
    "s.main"
   ]
  },
  {
   "cell_type": "code",
   "execution_count": 2,
   "id": "daa11707",
   "metadata": {},
   "outputs": [],
   "source": [
    "# import pandas as pd\n",
    "# df_raw = pd.read_csv(\"../data/transformed_data_raw.csv\", index_col=0)\n",
    "# df_view = pd.read_csv(\"../data/transformed_data_for_viewing.csv\", index_col=0)\n",
    "\n",
    "# # Hide last 200 observations for testing\n",
    "# df_unseen = df_raw[-200:]\n",
    "# df = df_raw[:-200]\n",
    "\n",
    "# # variables = \n",
    "# target_var = \"Mobile Traffic\"\n",
    "# variables.remove(target_var)\n",
    "\n",
    "# variables = ['Time Spend On YouTube [min]',\n",
    "#  'Time Spend On TikTok [min]',\n",
    "#  'Time Spend On Instagram [min]',\n",
    "#  'Time Spend On Spotify [min]',\n",
    "#  'Size of home [m2]',\n",
    "#  'Number Of Residents',\n",
    "#  'Average Age',\n",
    "#  'Distance To Nearest Tower [m]',\n",
    "#  'Number Of Phones',\n",
    "#  'Number Of Computers',\n",
    "#  'Number Of Tvs',\n",
    "#  'Number Of Pets',\n",
    "#  'Customer Happiness']"
   ]
  }
 ],
 "metadata": {
  "kernelspec": {
   "display_name": "Python 3 (ipykernel)",
   "language": "python",
   "name": "python3"
  },
  "language_info": {
   "codemirror_mode": {
    "name": "ipython",
    "version": 3
   },
   "file_extension": ".py",
   "mimetype": "text/x-python",
   "name": "python",
   "nbconvert_exporter": "python",
   "pygments_lexer": "ipython3",
   "version": "3.10.12"
  }
 },
 "nbformat": 4,
 "nbformat_minor": 5
}
