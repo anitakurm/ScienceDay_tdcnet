{
 "cells": [
  {
   "cell_type": "code",
   "execution_count": null,
   "id": "4616eaed-ef34-4f5d-a0c3-9fbd67eca6b3",
   "metadata": {},
   "outputs": [],
   "source": []
  },
  {
   "cell_type": "code",
   "execution_count": null,
   "id": "4fe1f355-a3f5-4e99-9219-692e37dda7be",
   "metadata": {},
   "outputs": [],
   "source": [
    "import pandas as pd\n",
    "import ipywidgets as widgets\n",
    "import numpy as np\n",
    "from scipy import stats\n",
    "import statsmodels.formula.api as smf"
   ]
  },
  {
   "cell_type": "markdown",
   "id": "1042744b-b67e-4f7b-85b5-1ef19d8a12fb",
   "metadata": {},
   "source": [
    "# Read Data"
   ]
  },
  {
   "cell_type": "code",
   "execution_count": null,
   "id": "8d05bc9e-9581-4c1a-b300-a34366b817ed",
   "metadata": {},
   "outputs": [],
   "source": [
    "df_raw = pd.read_csv('../data/transformed_data_raw.csv')\n",
    "\n",
    "# COMMAND ----------\n",
    "\n",
    "# Read Data\n",
    "df_view = pd.read_csv('../data/transformed_data_for_viewing.csv')\n",
    "\n",
    "# COMMAND ----------\n",
    "\n",
    "# Hide last 200 observations for testing \n",
    "df_unseen = df_raw[-200:].reset_index()\n",
    "df = df_raw[:-200].reset_index()"
   ]
  },
  {
   "cell_type": "code",
   "execution_count": null,
   "id": "7968196b-019d-4cee-bcde-a6426b744c5b",
   "metadata": {},
   "outputs": [],
   "source": [
    "df.columns = df.columns.str.replace(' ', '_')\n",
    "df.columns = df.columns.str.replace('\\[', '')\n",
    "df.columns = df.columns.str.replace('\\]', '')\n"
   ]
  },
  {
   "cell_type": "markdown",
   "id": "216ceb57-52ed-4f30-8b86-5a7faba9f5a5",
   "metadata": {},
   "source": [
    "### Specify variables"
   ]
  },
  {
   "cell_type": "code",
   "execution_count": null,
   "id": "3560adfd-35c5-40ed-8fdf-dcbce4311879",
   "metadata": {},
   "outputs": [],
   "source": [
    "variables =  ['Occupation', 'Family_Type', 'Family_Interest',\n",
    "       'House_Type', 'Number_Of_Residents', 'Average_Age',\n",
    "       'Distance_To_Nearest_Tower_m', 'Number_Of_Phones',\n",
    "       'Number_Of_Computers', 'Number_Of_Tvs', 'Number_Of_Pets',\n",
    "       'Customer_Happiness', 'Time_Spend_On_YouTube_min',\n",
    "       'Time_Spend_On_TikTok_min', 'Time_Spend_On_Instagram_min',\n",
    "       'Time_Spend_On_Spotify_min', 'Size_of_home_m2']"
   ]
  },
  {
   "cell_type": "markdown",
   "id": "6d2a6eb1-406d-4db1-af95-d96b174cef8c",
   "metadata": {},
   "source": [
    "## Make sliders"
   ]
  },
  {
   "cell_type": "code",
   "execution_count": null,
   "id": "8f4dd699-8588-4aa6-bd72-a76b0079c7fc",
   "metadata": {},
   "outputs": [],
   "source": [
    "slider_min = -10\n",
    "slider_max = 10\n",
    "slider_value = (slider_max+slider_min)/2"
   ]
  },
  {
   "cell_type": "code",
   "execution_count": null,
   "id": "eb732e24-067a-4b85-8825-9e9bb7f2e216",
   "metadata": {},
   "outputs": [],
   "source": [
    "layout = widgets.Layout(width='auto', height='40px') #set width and height\n"
   ]
  },
  {
   "cell_type": "code",
   "execution_count": null,
   "id": "d7d5411d-e49e-4709-b644-d82fc328d4a5",
   "metadata": {},
   "outputs": [],
   "source": [
    "sliders = { \n",
    "  i : widgets.IntSlider(\n",
    "    min=slider_min,\n",
    "    max=slider_max,\n",
    "    step=1,\n",
    "    description=i.replace(\"_\", \" \") + ': ',\n",
    "    value=slider_value,\n",
    "    layout=widgets.Layout(width='40%'),\n",
    "    style= {'description_width': '40%'}\n",
    "  ) for i in variables\n",
    "}"
   ]
  },
  {
   "cell_type": "code",
   "execution_count": null,
   "id": "7fa9c0ee-4dfa-4d88-a7a5-aa3a167a1836",
   "metadata": {},
   "outputs": [],
   "source": [
    "for s in sliders.values():\n",
    "  display(s)"
   ]
  },
  {
   "cell_type": "code",
   "execution_count": null,
   "id": "9bccd164-0314-4c55-bbaf-ef8b1f96f242",
   "metadata": {},
   "outputs": [],
   "source": [
    "### Store sliders in Dataframe\n",
    "\n",
    "# button = widgets.Button(description=\"Save weights\")\n",
    "# output = widgets.Output()\n",
    "\n",
    "# display(button, output)\n",
    "\n",
    "# def on_button_clicked(b):\n",
    "#   #Get slider values as pandas df\n",
    "#   df_weights = pd.DataFrame(columns=['variable', 'weight'])\n",
    "#   counter = 0\n",
    "#   for i in variables: \n",
    "#     new_name =  i.replace(' ','_')\n",
    "#     df_weights.loc[counter,'variable'] = i\n",
    "#     df_weights.loc[counter,'weight']= globals()[f'slider_{new_name}'].value\n",
    "#     counter +=1 \n",
    "\n",
    "#   with output:\n",
    "#       print(\"Weights Saved\")\n",
    "\n",
    "# button.on_click(on_button_clicked)"
   ]
  },
  {
   "cell_type": "code",
   "execution_count": null,
   "id": "674c4fdc-9d75-45a8-9e70-a96ba005df5d",
   "metadata": {},
   "outputs": [],
   "source": [
    "# Add save button for weights and store data\n",
    "get_data_button = widgets.Button(description='Save Weights')\n",
    "output = widgets.Output()\n",
    "\n",
    "def get_data(b):\n",
    "\n",
    "  #Get slider values as pandas df\n",
    "  tmp_weights = pd.DataFrame(columns=['variable', 'weight'])\n",
    "  counter = 0\n",
    "  with output:\n",
    "    print(\"Weights Saved\")\n",
    "\n",
    "  for var_name, slider in sliders.items(): \n",
    "    tmp_weights.loc[counter,'variable'] = var_name\n",
    "    tmp_weights.loc[counter,'weight']= slider.value\n",
    "    counter +=1 \n",
    "    get_data.data = tmp_weights\n",
    "\n",
    "  print(get_data.data)\n",
    "\n",
    "  return get_data.data"
   ]
  },
  {
   "cell_type": "code",
   "execution_count": null,
   "id": "0892d20f-59b2-44b4-86e1-4782ea8443d4",
   "metadata": {},
   "outputs": [],
   "source": [
    "get_data_button.on_click(get_data)\n",
    "display(get_data_button, output)"
   ]
  },
  {
   "cell_type": "code",
   "execution_count": null,
   "id": "5688ec47-b97d-475e-867e-616b7d1ac506",
   "metadata": {},
   "outputs": [],
   "source": [
    "# Store weights as dataframe\n",
    "df_weights = get_data.data\n",
    "df_weights"
   ]
  },
  {
   "cell_type": "markdown",
   "id": "1f430abb-d430-423a-9185-9a41d8fdd741",
   "metadata": {},
   "source": [
    "## Create manual linear regression using user input"
   ]
  },
  {
   "cell_type": "code",
   "execution_count": null,
   "id": "88316f98-065d-4284-b24f-ab51150f4ce9",
   "metadata": {},
   "outputs": [],
   "source": [
    "\n",
    "# Normalize weights between -1 and 1\n",
    "df_weights['weight'] = df_weights['weight']/10"
   ]
  },
  {
   "cell_type": "code",
   "execution_count": null,
   "id": "e0b66d41-dc4d-4fca-8e40-57e8503fcde6",
   "metadata": {},
   "outputs": [],
   "source": [
    "# standardizing dataframe so coefficients are -1 and 1\n",
    "df_z = df.select_dtypes(include=[np.number]).dropna().apply(stats.zscore)\n"
   ]
  },
  {
   "cell_type": "code",
   "execution_count": null,
   "id": "0ae7c13b-fa73-484a-9d12-bea1dbbaaf98",
   "metadata": {},
   "outputs": [],
   "source": [
    "\n",
    "# Store mean and std to transform back \n",
    "mean_std={}\n",
    "for var in df.columns:\n",
    "    mean_std[var]=(df[var].mean(), df[var].std())"
   ]
  },
  {
   "cell_type": "code",
   "execution_count": null,
   "id": "e5c8991f-d557-4e80-bb24-546710a8ee55",
   "metadata": {},
   "outputs": [],
   "source": [
    "def reverse_zscore(pandas_series, mean, std):\n",
    "    '''Mean and standard deviation should be of original variable before standardization'''\n",
    "    yis=pandas_series*std+mean\n",
    "    return yis\n",
    "\n",
    "var = 'Mobile_Traffic'\n",
    "original_mean, original_std = mean_std[var]\n",
    "original_var_series = reverse_zscore(df_z[var], original_mean, original_std)\n"
   ]
  },
  {
   "cell_type": "code",
   "execution_count": null,
   "id": "e54ca6d2-95e3-41d4-a39e-14fd66182202",
   "metadata": {},
   "outputs": [],
   "source": [
    "# Manually calculate y = alpha * x + beta\n",
    "Y = df_z['Mobile_Traffic']\n",
    "X = df_z[variables].copy()\n",
    "for i in variables:\n",
    "  alpha = df_weights[df_weights['variable'] == i].weight.values[0]\n",
    "  X[i] = df_z[i] * alpha \n",
    "Y_pred = X.sum(axis=1)\n",
    "\n",
    "Y_actual = df['Mobile_Traffic']\n",
    "Y_pred_trans = reverse_zscore(Y_pred, original_mean, original_std)\n"
   ]
  },
  {
   "cell_type": "code",
   "execution_count": null,
   "id": "4a3d58b4-7e9e-4947-bdfc-13482d5d7f19",
   "metadata": {},
   "outputs": [],
   "source": [
    "# # plot \n",
    "# import matplotlib.pyplot as plt\n",
    "\n",
    "# plt.scatter(Y_pred_trans,Y_actual)\n",
    "# plt.plot([0, max(max(Y_actual), max(Y_pred_trans))], [0,max(max(Y_actual), max(Y_pred_trans))], 'red')\n",
    "# plt.title(\"Mobile Traffic - Manual Model\")\n",
    "# plt.ylabel(\"Actual\")\n",
    "# plt.xlabel(\"Predicted\")\n",
    "# plt.show()"
   ]
  },
  {
   "cell_type": "markdown",
   "id": "7a055004-e902-41af-ab62-87474a3fcf93",
   "metadata": {},
   "source": [
    "# Evaluate model"
   ]
  },
  {
   "cell_type": "code",
   "execution_count": null,
   "id": "4581bfb8-a413-47e8-b698-f44220e33c16",
   "metadata": {},
   "outputs": [],
   "source": [
    "# Use MAE because it's the easiest to understand ? \n",
    "get_data_button = widgets.Button(description='Evaluate your model')\n",
    "output = widgets.Output()\n",
    "\n",
    "def get_data(b):\n",
    "  mape = round(np.mean(np.abs((Y_actual - Y_pred_trans)/Y_actual))*100,2)\n",
    "  mae = round(sum(abs(Y_actual - Y_pred_trans))/len(Y_actual),2)\n",
    "  with output:\n",
    "    print(\"Mean Absolute Error: \" + str(mae))\n",
    "    print(\"On average your model predicts the mobile traffic to be\" + str(mae) + \" GB off from the actual value\")\n",
    "    print(\"That corresponds to \" + str(mape) + \"% off the actual value on average\" )\n",
    "    print(\"\")\n",
    "    if mae < 2.3:\n",
    "      print(\"Good job! Can you beat your own record?\")\n",
    "    if mae >= 5:\n",
    "      print(\"Try again! You can do better\")\n",
    "\n",
    "\n",
    "  return 0 "
   ]
  },
  {
   "cell_type": "code",
   "execution_count": null,
   "id": "153cee54-4c90-455d-bc1b-fa83f83bff10",
   "metadata": {},
   "outputs": [],
   "source": [
    "# DISPLAY BUTTON\n",
    "get_data_button.on_click(get_data)\n",
    "display(get_data_button, output)"
   ]
  },
  {
   "cell_type": "code",
   "execution_count": null,
   "id": "60e948d4-54f8-47be-a189-a19df4c8e23a",
   "metadata": {},
   "outputs": [],
   "source": [
    "%matplotlib inline\n",
    "# MAGIC \n",
    "from matplotlib.pyplot import *\n",
    "layout = widgets.Layout(width='auto', height='40px') #set width and height\n",
    "# MAGIC \n",
    "button = widgets.Button(description=\"Plot your model\")\n",
    "out = widgets.Output()\n",
    "# MAGIC \n",
    "def on_button_clicked(b):\n",
    "    with out:\n",
    "        Y_actual = df['Mobile_Traffic']\n",
    "        Y_pred_trans = reverse_zscore(Y_pred, original_mean, original_std)\n",
    "        plt.scatter(Y_pred_trans,Y_actual)\n",
    "        plt.plot([0, max(max(Y_actual), max(Y_pred_trans))], [0,max(max(Y_actual), max(Y_pred_trans))], 'red')\n",
    "        plt.title(\"Mobile Traffic - Manual Model\")\n",
    "        plt.ylabel(\"Actual\")\n",
    "        plt.xlabel(\"Predicted\")\n",
    "        plt.show()\n",
    "        # show()\n",
    "button.on_click(on_button_clicked)\n",
    "# MAGIC \n",
    "display(button)\n",
    "# MAGIC \n",
    "with out:\n",
    "    print(\"\")\n",
    "    # plot([1,2],[1,2])\n",
    "    # show()\n",
    "out"
   ]
  },
  {
   "cell_type": "markdown",
   "id": "8020c915-8799-454e-aa4a-a1879cb3802b",
   "metadata": {},
   "source": [
    "## Make linear regression"
   ]
  },
  {
   "cell_type": "code",
   "execution_count": null,
   "id": "a0568801-27d0-4073-abd8-6a44f75adfe5",
   "metadata": {},
   "outputs": [],
   "source": [
    "\n",
    "#Create formula\n",
    "# Remove Intercept\n",
    "formula ='Mobile_Traffic ~ -1 + '\n",
    "counter = 1\n",
    "for i in  X.columns.values:\n",
    "  if counter == 1:\n",
    "    formula = formula + i\n",
    "  else:\n",
    "    formula = formula + ' + ' + i\n",
    "  counter += 1"
   ]
  },
  {
   "cell_type": "code",
   "execution_count": null,
   "id": "e9d6b7da-aeea-4bca-b51e-e754e2f6f246",
   "metadata": {},
   "outputs": [],
   "source": [
    "import pandas as pd\n",
    "import statsmodels.formula.api as smf\n",
    "import statsmodels.api as sm\n",
    "res = smf.ols(formula, data=df_z).fit()\n",
    "lm_prediction = res.predict(df_z[:])\n",
    "res.summary()"
   ]
  },
  {
   "cell_type": "code",
   "execution_count": null,
   "id": "38145586-a222-40af-b829-133b5f169230",
   "metadata": {},
   "outputs": [],
   "source": [
    "import matplotlib.pyplot as plt\n",
    "\n",
    "lm_prediction_trans = reverse_zscore(lm_prediction, original_mean, original_std)\n",
    "\n",
    "plt.scatter(lm_prediction_trans, Y_actual)\n",
    "plt.plot([0, max(max(Y_actual), max(lm_prediction_trans))], [0,max(max(Y_actual), max(lm_prediction_trans))], 'red')\n",
    "plt.title(\"Mobile Traffic - Linear Model\")\n",
    "plt.ylabel(\"Actual\")\n",
    "plt.xlabel(\"Predicted\")\n",
    "plt.show()\n"
   ]
  },
  {
   "cell_type": "code",
   "execution_count": null,
   "id": "2a85db0c-a600-4fa4-8b36-d4802d921539",
   "metadata": {},
   "outputs": [],
   "source": [
    "# Show case Non Linear relationship\n",
    "plt.scatter(df['Distance_To_Nearest_Tower_m'], Y_actual)\n",
    "plt.title(\"Mobile Traffic - Linear Model\")\n",
    "plt.ylabel(\"Mobile Traffic\")\n",
    "plt.xlabel(\"-\")\n",
    "plt.show()"
   ]
  },
  {
   "cell_type": "code",
   "execution_count": null,
   "id": "3085a63c-de0f-4401-b1bc-597b4c2b4e68",
   "metadata": {},
   "outputs": [],
   "source": [
    "# Example 3d plot\n",
    "import numpy as np\n",
    "import seaborn as sns\n",
    "import statsmodels.formula.api as smf\n",
    "import matplotlib.pyplot as plt\n",
    "from mpl_toolkits import mplot3d\n",
    "\n",
    "model = smf.ols(formula='Mobile_Traffic ~ Average_Age + Number_Of_Phones', data=df)\n",
    "\n",
    "results = model.fit()\n",
    "x, y = model.exog_names[1:]\n",
    "\n",
    "x_range = np.arange(df[x].min(), df[x].max())\n",
    "print(x_range.shape)\n",
    "y_range = np.arange(df[y].min(), df[y].max())\n",
    "print(y_range.shape)\n",
    "\n",
    "X, Y = np.meshgrid(x_range, y_range)\n",
    "\n",
    "exog = pd.DataFrame({x: X.ravel(), y: Y.ravel()})\n",
    "Z = results.predict(exog = exog).values.reshape(X.shape)\n",
    "y_pred = results.predict(df[model.exog_names[1:]])\n",
    "\n",
    "fig = plt.figure(figsize=plt.figaspect(1)*2)\n",
    "ax = plt.axes(projection='3d')\n",
    "ax.scatter(df[x].values, df[y].values, df[model.endog_names].values, label=\"Actual\")\n",
    "ax.scatter(df[x].values, df[y].values, y_pred, label=\"Pred\")\n",
    "\n",
    "ax.plot_surface(X, Y, Z, rstride=1, cstride=1, alpha = 0.4)\n",
    "ax.legend()\n",
    "plt.show()"
   ]
  },
  {
   "cell_type": "code",
   "execution_count": null,
   "id": "2776d25b-7acd-4e8d-8fe3-0a46679173a3",
   "metadata": {},
   "outputs": [],
   "source": [
    "# from mpl_toolkits.mplot3d import Axes3D\n",
    "# from matplotlib import cm\n",
    "# from matplotlib.ticker import LinearLocator, FormatStrFormatter\n",
    "# import matplotlib.pyplot as plt\n",
    "# import numpy as np\n",
    "\n",
    "# fig = plt.figure()\n",
    "# ax = fig.gca(projection='3d')\n",
    "# X = np.arange(-5, 5, 0.25)\n",
    "# Y = np.arange(-5, 5, 0.25)\n",
    "# X, Y = np.meshgrid(X, Y)\n",
    "# R = np.sqrt(X**2 + Y**2)\n",
    "# Z = np.sin(R)\n",
    "# surf = ax.plot_surface(X, Y, Z, rstride=1, cstride=1, cmap=cm.coolwarm,\n",
    "#                        linewidth=0, antialiased=False)\n",
    "# ax.set_zlim(-1.01, 1.01)\n",
    "\n",
    "# ax.zaxis.set_major_locator(LinearLocator(10))\n",
    "# ax.zaxis.set_major_formatter(FormatStrFormatter('%.02f'))\n",
    "\n",
    "# fig.colorbar(surf, shrink=0.5, aspect=5)\n",
    "\n",
    "# plt.show()"
   ]
  }
 ],
 "metadata": {
  "kernelspec": {
   "display_name": "Python 3 (ipykernel)",
   "language": "python",
   "name": "python3"
  },
  "language_info": {
   "codemirror_mode": {
    "name": "ipython",
    "version": 3
   },
   "file_extension": ".py",
   "mimetype": "text/x-python",
   "name": "python",
   "nbconvert_exporter": "python",
   "pygments_lexer": "ipython3",
   "version": "3.10.6"
  }
 },
 "nbformat": 4,
 "nbformat_minor": 5
}
