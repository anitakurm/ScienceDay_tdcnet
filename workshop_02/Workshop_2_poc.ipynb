{
 "cells": [
  {
   "cell_type": "code",
   "execution_count": 2,
   "id": "4fe1f355-a3f5-4e99-9219-692e37dda7be",
   "metadata": {},
   "outputs": [],
   "source": [
    "import pandas as pd\n",
    "import ipywidgets as widgets\n",
    "import numpy as np\n",
    "from scipy import stats\n",
    "import statsmodels.formula.api as smf"
   ]
  },
  {
   "cell_type": "markdown",
   "id": "1042744b-b67e-4f7b-85b5-1ef19d8a12fb",
   "metadata": {},
   "source": [
    "# Read Data"
   ]
  },
  {
   "cell_type": "code",
   "execution_count": 36,
   "id": "8d05bc9e-9581-4c1a-b300-a34366b817ed",
   "metadata": {},
   "outputs": [],
   "source": [
    "df_raw = pd.read_csv('../data/transformed_data_raw.csv', index_col = 0)\n",
    "\n",
    "# COMMAND ----------\n",
    "\n",
    "# Read Data\n",
    "df_view = pd.read_csv('../data/transformed_data_for_viewing.csv', index_col = 0)\n",
    "\n",
    "# COMMAND ----------\n",
    "\n",
    "# Hide last 200 observations for testing \n",
    "df_unseen = df_raw[-200:]\n",
    "df = df_raw[:-200]"
   ]
  },
  {
   "cell_type": "code",
   "execution_count": 84,
   "id": "e6832686-b2ed-48ae-b45c-ca9b9b339dfa",
   "metadata": {},
   "outputs": [
    {
     "data": {
      "text/html": [
       "<div>\n",
       "<style scoped>\n",
       "    .dataframe tbody tr th:only-of-type {\n",
       "        vertical-align: middle;\n",
       "    }\n",
       "\n",
       "    .dataframe tbody tr th {\n",
       "        vertical-align: top;\n",
       "    }\n",
       "\n",
       "    .dataframe thead th {\n",
       "        text-align: right;\n",
       "    }\n",
       "</style>\n",
       "<table border=\"1\" class=\"dataframe\">\n",
       "  <thead>\n",
       "    <tr style=\"text-align: right;\">\n",
       "      <th></th>\n",
       "      <th>Number_Of_Residents</th>\n",
       "      <th>Time_Spend_On_YouTube</th>\n",
       "      <th>Occupation</th>\n",
       "      <th>Mobile_Traffic</th>\n",
       "    </tr>\n",
       "  </thead>\n",
       "  <tbody>\n",
       "    <tr>\n",
       "      <th>0</th>\n",
       "      <td>1</td>\n",
       "      <td>9.799509</td>\n",
       "      <td>0.459225</td>\n",
       "      <td>9.840406</td>\n",
       "    </tr>\n",
       "    <tr>\n",
       "      <th>1</th>\n",
       "      <td>6</td>\n",
       "      <td>41.649654</td>\n",
       "      <td>0.483232</td>\n",
       "      <td>10.516603</td>\n",
       "    </tr>\n",
       "    <tr>\n",
       "      <th>2</th>\n",
       "      <td>3</td>\n",
       "      <td>73.189363</td>\n",
       "      <td>0.752502</td>\n",
       "      <td>14.627861</td>\n",
       "    </tr>\n",
       "    <tr>\n",
       "      <th>3</th>\n",
       "      <td>2</td>\n",
       "      <td>15.098224</td>\n",
       "      <td>0.305519</td>\n",
       "      <td>9.244819</td>\n",
       "    </tr>\n",
       "    <tr>\n",
       "      <th>4</th>\n",
       "      <td>1</td>\n",
       "      <td>11.418807</td>\n",
       "      <td>0.190227</td>\n",
       "      <td>12.012507</td>\n",
       "    </tr>\n",
       "    <tr>\n",
       "      <th>...</th>\n",
       "      <td>...</td>\n",
       "      <td>...</td>\n",
       "      <td>...</td>\n",
       "      <td>...</td>\n",
       "    </tr>\n",
       "    <tr>\n",
       "      <th>795</th>\n",
       "      <td>2</td>\n",
       "      <td>5.124970</td>\n",
       "      <td>0.533929</td>\n",
       "      <td>10.913351</td>\n",
       "    </tr>\n",
       "    <tr>\n",
       "      <th>796</th>\n",
       "      <td>4</td>\n",
       "      <td>68.770110</td>\n",
       "      <td>0.586472</td>\n",
       "      <td>11.822135</td>\n",
       "    </tr>\n",
       "    <tr>\n",
       "      <th>797</th>\n",
       "      <td>3</td>\n",
       "      <td>16.793432</td>\n",
       "      <td>0.462200</td>\n",
       "      <td>12.342823</td>\n",
       "    </tr>\n",
       "    <tr>\n",
       "      <th>798</th>\n",
       "      <td>1</td>\n",
       "      <td>16.541514</td>\n",
       "      <td>0.523837</td>\n",
       "      <td>6.173813</td>\n",
       "    </tr>\n",
       "    <tr>\n",
       "      <th>799</th>\n",
       "      <td>1</td>\n",
       "      <td>30.626510</td>\n",
       "      <td>0.485655</td>\n",
       "      <td>9.947104</td>\n",
       "    </tr>\n",
       "  </tbody>\n",
       "</table>\n",
       "<p>800 rows × 4 columns</p>\n",
       "</div>"
      ],
      "text/plain": [
       "     Number_Of_Residents  Time_Spend_On_YouTube  Occupation  Mobile_Traffic\n",
       "0                      1               9.799509    0.459225        9.840406\n",
       "1                      6              41.649654    0.483232       10.516603\n",
       "2                      3              73.189363    0.752502       14.627861\n",
       "3                      2              15.098224    0.305519        9.244819\n",
       "4                      1              11.418807    0.190227       12.012507\n",
       "..                   ...                    ...         ...             ...\n",
       "795                    2               5.124970    0.533929       10.913351\n",
       "796                    4              68.770110    0.586472       11.822135\n",
       "797                    3              16.793432    0.462200       12.342823\n",
       "798                    1              16.541514    0.523837        6.173813\n",
       "799                    1              30.626510    0.485655        9.947104\n",
       "\n",
       "[800 rows x 4 columns]"
      ]
     },
     "execution_count": 84,
     "metadata": {},
     "output_type": "execute_result"
    }
   ],
   "source": [
    "df"
   ]
  },
  {
   "cell_type": "code",
   "execution_count": 38,
   "id": "7968196b-019d-4cee-bcde-a6426b744c5b",
   "metadata": {},
   "outputs": [],
   "source": [
    "df.columns = df.columns.str.replace(' ', '_')\n",
    "df.columns = df.columns.str.replace('\\[', '')\n",
    "df.columns = df.columns.str.replace('\\]', '')\n"
   ]
  },
  {
   "cell_type": "markdown",
   "id": "91680901-23e0-4370-87ff-fecc915d9010",
   "metadata": {},
   "source": [
    "### Specify variables"
   ]
  },
  {
   "cell_type": "markdown",
   "id": "6b584105-6c00-4cb4-95a6-494c14d71879",
   "metadata": {},
   "source": [
    "variables =  ['Occupation', 'Family_Type', 'Family_Interest',\n",
    "       'House_Type', 'Number_Of_Residents', 'Average_Age',\n",
    "       'Distance_To_Nearest_Tower_m', 'Number_Of_Phones',\n",
    "       'Number_Of_Computers', 'Number_Of_Tvs', 'Number_Of_Pets',\n",
    "       'Customer_Happiness', 'Time_Spend_On_YouTube_min',\n",
    "       'Time_Spend_On_TikTok_min', 'Time_Spend_On_Instagram_min',\n",
    "       'Time_Spend_On_Spotify_min', 'Size_of_home_m2']"
   ]
  },
  {
   "cell_type": "code",
   "execution_count": 61,
   "id": "51022af1-5ac8-4452-8d0b-758e27d6cb72",
   "metadata": {},
   "outputs": [],
   "source": [
    "\n",
    "variables = list(df.columns)"
   ]
  },
  {
   "cell_type": "code",
   "execution_count": 62,
   "id": "bae0c0d6-e32f-4b47-b2bb-cfba4a33e6df",
   "metadata": {},
   "outputs": [
    {
     "data": {
      "text/plain": [
       "['Number_Of_Residents',\n",
       " 'Time_Spend_On_YouTube',\n",
       " 'Occupation',\n",
       " 'Mobile_Traffic']"
      ]
     },
     "execution_count": 62,
     "metadata": {},
     "output_type": "execute_result"
    }
   ],
   "source": [
    "variables"
   ]
  },
  {
   "cell_type": "markdown",
   "id": "6d2a6eb1-406d-4db1-af95-d96b174cef8c",
   "metadata": {},
   "source": [
    "## Make sliders"
   ]
  },
  {
   "cell_type": "code",
   "execution_count": 63,
   "id": "8f4dd699-8588-4aa6-bd72-a76b0079c7fc",
   "metadata": {},
   "outputs": [],
   "source": [
    "slider_min = -10\n",
    "slider_max = 10\n",
    "slider_value = (slider_max+slider_min)/2"
   ]
  },
  {
   "cell_type": "code",
   "execution_count": 64,
   "id": "eb732e24-067a-4b85-8825-9e9bb7f2e216",
   "metadata": {},
   "outputs": [],
   "source": [
    "layout = widgets.Layout(width='auto', height='40px') #set width and height\n"
   ]
  },
  {
   "cell_type": "code",
   "execution_count": 65,
   "id": "d7d5411d-e49e-4709-b644-d82fc328d4a5",
   "metadata": {},
   "outputs": [],
   "source": [
    "sliders = { \n",
    "  i : widgets.IntSlider(\n",
    "    min=slider_min,\n",
    "    max=slider_max,\n",
    "    step=1,\n",
    "    description=i.replace(\"_\", \" \") + ': ',\n",
    "    value=slider_value,\n",
    "    layout=widgets.Layout(width='40%'),\n",
    "    style= {'description_width': '40%'}\n",
    "  ) for i in variables\n",
    "}"
   ]
  },
  {
   "cell_type": "code",
   "execution_count": 70,
   "id": "7fa9c0ee-4dfa-4d88-a7a5-aa3a167a1836",
   "metadata": {},
   "outputs": [
    {
     "data": {
      "application/vnd.jupyter.widget-view+json": {
       "model_id": "db47af3d1573461299f565283e3f9c4d",
       "version_major": 2,
       "version_minor": 0
      },
      "text/plain": [
       "IntSlider(value=3, description='Number Of Residents: ', layout=Layout(width='40%'), max=10, min=-10, style=Sli…"
      ]
     },
     "metadata": {},
     "output_type": "display_data"
    },
    {
     "data": {
      "application/vnd.jupyter.widget-view+json": {
       "model_id": "b0b77e6602c843dcafcba583ae99319a",
       "version_major": 2,
       "version_minor": 0
      },
      "text/plain": [
       "IntSlider(value=-5, description='Time Spend On YouTube: ', layout=Layout(width='40%'), max=10, min=-10, style=…"
      ]
     },
     "metadata": {},
     "output_type": "display_data"
    },
    {
     "data": {
      "application/vnd.jupyter.widget-view+json": {
       "model_id": "ba6e79e699ab478382ca39456d3292df",
       "version_major": 2,
       "version_minor": 0
      },
      "text/plain": [
       "IntSlider(value=5, description='Occupation: ', layout=Layout(width='40%'), max=10, min=-10, style=SliderStyle(…"
      ]
     },
     "metadata": {},
     "output_type": "display_data"
    },
    {
     "data": {
      "application/vnd.jupyter.widget-view+json": {
       "model_id": "9a9779d7f4664ac8b511df7837962867",
       "version_major": 2,
       "version_minor": 0
      },
      "text/plain": [
       "IntSlider(value=-2, description='Mobile Traffic: ', layout=Layout(width='40%'), max=10, min=-10, style=SliderS…"
      ]
     },
     "metadata": {},
     "output_type": "display_data"
    }
   ],
   "source": [
    "for s in sliders.values():\n",
    "  display(s)"
   ]
  },
  {
   "cell_type": "code",
   "execution_count": 71,
   "id": "9bccd164-0314-4c55-bbaf-ef8b1f96f242",
   "metadata": {},
   "outputs": [],
   "source": [
    "### Store sliders in Dataframe\n",
    "\n",
    "# button = widgets.Button(description=\"Save weights\")\n",
    "# output = widgets.Output()\n",
    "\n",
    "# display(button, output)\n",
    "\n",
    "# def on_button_clicked(b):\n",
    "#   #Get slider values as pandas df\n",
    "#   df_weights = pd.DataFrame(columns=['variable', 'weight'])\n",
    "#   counter = 0\n",
    "#   for i in variables: \n",
    "#     new_name =  i.replace(' ','_')\n",
    "#     df_weights.loc[counter,'variable'] = i\n",
    "#     df_weights.loc[counter,'weight']= globals()[f'slider_{new_name}'].value\n",
    "#     counter +=1 \n",
    "\n",
    "#   with output:\n",
    "#       print(\"Weights Saved\")\n",
    "\n",
    "# button.on_click(on_button_clicked)"
   ]
  },
  {
   "cell_type": "code",
   "execution_count": 72,
   "id": "674c4fdc-9d75-45a8-9e70-a96ba005df5d",
   "metadata": {},
   "outputs": [],
   "source": [
    "# Add save button for weights and store data\n",
    "get_data_button = widgets.Button(description='Save Weights')\n",
    "output = widgets.Output()\n",
    "\n",
    "def get_data(b):\n",
    "\n",
    "  #Get slider values as pandas df\n",
    "  tmp_weights = pd.DataFrame(columns=['variable', 'weight'])\n",
    "  counter = 0\n",
    "  with output:\n",
    "    print(\"Weights Saved\")\n",
    "\n",
    "  for var_name, slider in sliders.items(): \n",
    "    tmp_weights.loc[counter,'variable'] = var_name\n",
    "    tmp_weights.loc[counter,'weight']= slider.value\n",
    "    counter +=1 \n",
    "    get_data.data = tmp_weights\n",
    "\n",
    "  print(get_data.data)\n",
    "\n",
    "  return get_data.data"
   ]
  },
  {
   "cell_type": "code",
   "execution_count": 73,
   "id": "0892d20f-59b2-44b4-86e1-4782ea8443d4",
   "metadata": {},
   "outputs": [
    {
     "data": {
      "application/vnd.jupyter.widget-view+json": {
       "model_id": "df44ba0bee4048dcbe1dd7db008858f1",
       "version_major": 2,
       "version_minor": 0
      },
      "text/plain": [
       "Button(description='Save Weights', style=ButtonStyle())"
      ]
     },
     "metadata": {},
     "output_type": "display_data"
    },
    {
     "data": {
      "application/vnd.jupyter.widget-view+json": {
       "model_id": "586bb3a5b7cf41fca14b4ff0628f0cf3",
       "version_major": 2,
       "version_minor": 0
      },
      "text/plain": [
       "Output()"
      ]
     },
     "metadata": {},
     "output_type": "display_data"
    }
   ],
   "source": [
    "get_data_button.on_click(get_data)\n",
    "display(get_data_button, output)"
   ]
  },
  {
   "cell_type": "code",
   "execution_count": 75,
   "id": "5688ec47-b97d-475e-867e-616b7d1ac506",
   "metadata": {},
   "outputs": [
    {
     "data": {
      "text/html": [
       "<div>\n",
       "<style scoped>\n",
       "    .dataframe tbody tr th:only-of-type {\n",
       "        vertical-align: middle;\n",
       "    }\n",
       "\n",
       "    .dataframe tbody tr th {\n",
       "        vertical-align: top;\n",
       "    }\n",
       "\n",
       "    .dataframe thead th {\n",
       "        text-align: right;\n",
       "    }\n",
       "</style>\n",
       "<table border=\"1\" class=\"dataframe\">\n",
       "  <thead>\n",
       "    <tr style=\"text-align: right;\">\n",
       "      <th></th>\n",
       "      <th>variable</th>\n",
       "      <th>weight</th>\n",
       "    </tr>\n",
       "  </thead>\n",
       "  <tbody>\n",
       "    <tr>\n",
       "      <th>0</th>\n",
       "      <td>Number_Of_Residents</td>\n",
       "      <td>3</td>\n",
       "    </tr>\n",
       "    <tr>\n",
       "      <th>1</th>\n",
       "      <td>Time_Spend_On_YouTube</td>\n",
       "      <td>-5</td>\n",
       "    </tr>\n",
       "    <tr>\n",
       "      <th>2</th>\n",
       "      <td>Occupation</td>\n",
       "      <td>5</td>\n",
       "    </tr>\n",
       "    <tr>\n",
       "      <th>3</th>\n",
       "      <td>Mobile_Traffic</td>\n",
       "      <td>-2</td>\n",
       "    </tr>\n",
       "  </tbody>\n",
       "</table>\n",
       "</div>"
      ],
      "text/plain": [
       "                variable weight\n",
       "0    Number_Of_Residents      3\n",
       "1  Time_Spend_On_YouTube     -5\n",
       "2             Occupation      5\n",
       "3         Mobile_Traffic     -2"
      ]
     },
     "execution_count": 75,
     "metadata": {},
     "output_type": "execute_result"
    }
   ],
   "source": [
    "# Store weights as dataframe\n",
    "df_weights = get_data.data\n",
    "df_weights"
   ]
  },
  {
   "cell_type": "markdown",
   "id": "1f430abb-d430-423a-9185-9a41d8fdd741",
   "metadata": {},
   "source": [
    "## Create manual linear regression using user input"
   ]
  },
  {
   "cell_type": "code",
   "execution_count": 76,
   "id": "88316f98-065d-4284-b24f-ab51150f4ce9",
   "metadata": {},
   "outputs": [],
   "source": [
    "\n",
    "# Normalize weights between -1 and 1\n",
    "df_weights['weight'] = df_weights['weight']/10"
   ]
  },
  {
   "cell_type": "code",
   "execution_count": 85,
   "id": "e0b66d41-dc4d-4fca-8e40-57e8503fcde6",
   "metadata": {},
   "outputs": [],
   "source": [
    "# standardizing dataframe so coefficients are -1 and 1\n",
    "df_z = df.select_dtypes(include=[np.number]).dropna().apply(stats.zscore)\n"
   ]
  },
  {
   "cell_type": "code",
   "execution_count": 86,
   "id": "0ae7c13b-fa73-484a-9d12-bea1dbbaaf98",
   "metadata": {},
   "outputs": [],
   "source": [
    "\n",
    "# Store mean and std to transform back \n",
    "mean_std={}\n",
    "for var in df.columns:\n",
    "    mean_std[var]=(df[var].mean(), df[var].std())"
   ]
  },
  {
   "cell_type": "code",
   "execution_count": 87,
   "id": "e5c8991f-d557-4e80-bb24-546710a8ee55",
   "metadata": {},
   "outputs": [],
   "source": [
    "def reverse_zscore(pandas_series, mean, std):\n",
    "    '''Mean and standard deviation should be of original variable before standardization'''\n",
    "    yis=pandas_series*std+mean\n",
    "    return yis\n",
    "\n",
    "var = 'Mobile_Traffic'\n",
    "original_mean, original_std = mean_std[var]\n",
    "original_var_series = reverse_zscore(df_z[var], original_mean, original_std)\n"
   ]
  },
  {
   "cell_type": "code",
   "execution_count": 88,
   "id": "ffefc17e-90d6-4209-a241-a6506170fcb7",
   "metadata": {},
   "outputs": [
    {
     "data": {
      "text/html": [
       "<div>\n",
       "<style scoped>\n",
       "    .dataframe tbody tr th:only-of-type {\n",
       "        vertical-align: middle;\n",
       "    }\n",
       "\n",
       "    .dataframe tbody tr th {\n",
       "        vertical-align: top;\n",
       "    }\n",
       "\n",
       "    .dataframe thead th {\n",
       "        text-align: right;\n",
       "    }\n",
       "</style>\n",
       "<table border=\"1\" class=\"dataframe\">\n",
       "  <thead>\n",
       "    <tr style=\"text-align: right;\">\n",
       "      <th></th>\n",
       "      <th>Number_Of_Residents</th>\n",
       "      <th>Time_Spend_On_YouTube</th>\n",
       "      <th>Occupation</th>\n",
       "      <th>Mobile_Traffic</th>\n",
       "    </tr>\n",
       "  </thead>\n",
       "  <tbody>\n",
       "    <tr>\n",
       "      <th>0</th>\n",
       "      <td>-1.239957</td>\n",
       "      <td>-0.655820</td>\n",
       "      <td>-0.484492</td>\n",
       "      <td>0.013240</td>\n",
       "    </tr>\n",
       "    <tr>\n",
       "      <th>1</th>\n",
       "      <td>3.439126</td>\n",
       "      <td>0.224566</td>\n",
       "      <td>-0.312246</td>\n",
       "      <td>0.241027</td>\n",
       "    </tr>\n",
       "    <tr>\n",
       "      <th>2</th>\n",
       "      <td>0.631676</td>\n",
       "      <td>1.096371</td>\n",
       "      <td>1.619707</td>\n",
       "      <td>1.625961</td>\n",
       "    </tr>\n",
       "    <tr>\n",
       "      <th>3</th>\n",
       "      <td>-0.304140</td>\n",
       "      <td>-0.509356</td>\n",
       "      <td>-1.587303</td>\n",
       "      <td>-0.187392</td>\n",
       "    </tr>\n",
       "    <tr>\n",
       "      <th>4</th>\n",
       "      <td>-1.239957</td>\n",
       "      <td>-0.611060</td>\n",
       "      <td>-2.414499</td>\n",
       "      <td>0.744943</td>\n",
       "    </tr>\n",
       "    <tr>\n",
       "      <th>...</th>\n",
       "      <td>...</td>\n",
       "      <td>...</td>\n",
       "      <td>...</td>\n",
       "      <td>...</td>\n",
       "    </tr>\n",
       "    <tr>\n",
       "      <th>795</th>\n",
       "      <td>-0.304140</td>\n",
       "      <td>-0.785031</td>\n",
       "      <td>0.051492</td>\n",
       "      <td>0.374677</td>\n",
       "    </tr>\n",
       "    <tr>\n",
       "      <th>796</th>\n",
       "      <td>1.567493</td>\n",
       "      <td>0.974216</td>\n",
       "      <td>0.428480</td>\n",
       "      <td>0.680813</td>\n",
       "    </tr>\n",
       "    <tr>\n",
       "      <th>797</th>\n",
       "      <td>0.631676</td>\n",
       "      <td>-0.462497</td>\n",
       "      <td>-0.463149</td>\n",
       "      <td>0.856214</td>\n",
       "    </tr>\n",
       "    <tr>\n",
       "      <th>798</th>\n",
       "      <td>-1.239957</td>\n",
       "      <td>-0.469461</td>\n",
       "      <td>-0.020915</td>\n",
       "      <td>-1.221903</td>\n",
       "    </tr>\n",
       "    <tr>\n",
       "      <th>799</th>\n",
       "      <td>-1.239957</td>\n",
       "      <td>-0.080130</td>\n",
       "      <td>-0.294861</td>\n",
       "      <td>0.049183</td>\n",
       "    </tr>\n",
       "  </tbody>\n",
       "</table>\n",
       "<p>800 rows × 4 columns</p>\n",
       "</div>"
      ],
      "text/plain": [
       "     Number_Of_Residents  Time_Spend_On_YouTube  Occupation  Mobile_Traffic\n",
       "0              -1.239957              -0.655820   -0.484492        0.013240\n",
       "1               3.439126               0.224566   -0.312246        0.241027\n",
       "2               0.631676               1.096371    1.619707        1.625961\n",
       "3              -0.304140              -0.509356   -1.587303       -0.187392\n",
       "4              -1.239957              -0.611060   -2.414499        0.744943\n",
       "..                   ...                    ...         ...             ...\n",
       "795            -0.304140              -0.785031    0.051492        0.374677\n",
       "796             1.567493               0.974216    0.428480        0.680813\n",
       "797             0.631676              -0.462497   -0.463149        0.856214\n",
       "798            -1.239957              -0.469461   -0.020915       -1.221903\n",
       "799            -1.239957              -0.080130   -0.294861        0.049183\n",
       "\n",
       "[800 rows x 4 columns]"
      ]
     },
     "execution_count": 88,
     "metadata": {},
     "output_type": "execute_result"
    }
   ],
   "source": [
    "df_z"
   ]
  },
  {
   "cell_type": "code",
   "execution_count": 89,
   "id": "e54ca6d2-95e3-41d4-a39e-14fd66182202",
   "metadata": {},
   "outputs": [],
   "source": [
    "# Manually calculate y = alpha * x + beta\n",
    "X = df_z.copy()\n",
    "Y = X.pop(var)\n",
    "for i in X.columns:\n",
    "  alpha = df_weights[df_weights['variable'] == i].weight.values[0]\n",
    "  X[i] = df_z[i] * alpha \n",
    "Y_pred = X.sum(axis=1)\n",
    "\n",
    "Y_actual = df[var]\n",
    "Y_pred_trans = reverse_zscore(Y_pred, original_mean, original_std)\n"
   ]
  },
  {
   "cell_type": "code",
   "execution_count": 90,
   "id": "4a3d58b4-7e9e-4947-bdfc-13482d5d7f19",
   "metadata": {},
   "outputs": [
    {
     "data": {
      "image/png": "[encoded data removed]",
      "text/plain": [
       "<Figure size 640x480 with 1 Axes>"
      ]
     },
     "metadata": {},
     "output_type": "display_data"
    }
   ],
   "source": [
    "# plot \n",
    "import matplotlib.pyplot as plt\n",
    "\n",
    "plt.scatter(Y_pred_trans,Y_actual)\n",
    "plt.plot([0, max(max(Y_actual), max(Y_pred_trans))], [0,max(max(Y_actual), max(Y_pred_trans))], 'red')\n",
    "plt.title(\"Mobile Traffic - Manual Model\")\n",
    "plt.ylabel(\"Actual\")\n",
    "plt.xlabel(\"Predicted\")\n",
    "plt.show()"
   ]
  },
  {
   "cell_type": "markdown",
   "id": "7a055004-e902-41af-ab62-87474a3fcf93",
   "metadata": {},
   "source": [
    "# Evaluate model"
   ]
  },
  {
   "cell_type": "code",
   "execution_count": 91,
   "id": "4581bfb8-a413-47e8-b698-f44220e33c16",
   "metadata": {},
   "outputs": [],
   "source": [
    "# Use MAE because it's the easiest to understand ? \n",
    "get_data_button = widgets.Button(description='Evaluate your model')\n",
    "output = widgets.Output()\n",
    "\n",
    "def get_data(b):\n",
    "  mape = round(np.mean(np.abs((Y_actual - Y_pred_trans)/Y_actual))*100,2)\n",
    "  mae = round(sum(abs(Y_actual - Y_pred_trans))/len(Y_actual),2)\n",
    "  with output:\n",
    "    print(\"Mean Absolute Error: \" + str(mae))\n",
    "    print(\"On average your model predicts the mobile traffic to be\" + str(mae) + \" GB off from the actual value\")\n",
    "    print(\"That corresponds to \" + str(mape) + \"% off the actual value on average\" )\n",
    "    print(\"\")\n",
    "    if mae < 2.3:\n",
    "      print(\"Good job! Can you beat your own record?\")\n",
    "    if mae >= 5:\n",
    "      print(\"Try again! You can do better\")\n",
    "\n",
    "\n",
    "  return 0 "
   ]
  },
  {
   "cell_type": "code",
   "execution_count": 92,
   "id": "153cee54-4c90-455d-bc1b-fa83f83bff10",
   "metadata": {},
   "outputs": [
    {
     "data": {
      "application/vnd.jupyter.widget-view+json": {
       "model_id": "88f29a6095504ee39a5c7439c6df8247",
       "version_major": 2,
       "version_minor": 0
      },
      "text/plain": [
       "Button(description='Evaluate your model', style=ButtonStyle())"
      ]
     },
     "metadata": {},
     "output_type": "display_data"
    },
    {
     "data": {
      "application/vnd.jupyter.widget-view+json": {
       "model_id": "40863b58510a41a4873dc71a0f2040e6",
       "version_major": 2,
       "version_minor": 0
      },
      "text/plain": [
       "Output()"
      ]
     },
     "metadata": {},
     "output_type": "display_data"
    }
   ],
   "source": [
    "# DISPLAY BUTTON\n",
    "get_data_button.on_click(get_data)\n",
    "display(get_data_button, output)"
   ]
  },
  {
   "cell_type": "code",
   "execution_count": 93,
   "id": "60e948d4-54f8-47be-a189-a19df4c8e23a",
   "metadata": {},
   "outputs": [
    {
     "data": {
      "application/vnd.jupyter.widget-view+json": {
       "model_id": "9e6933c9d42e48d6aa047aaf71eab060",
       "version_major": 2,
       "version_minor": 0
      },
      "text/plain": [
       "Button(description='Plot your model', style=ButtonStyle())"
      ]
     },
     "metadata": {},
     "output_type": "display_data"
    },
    {
     "data": {
      "application/vnd.jupyter.widget-view+json": {
       "model_id": "907add89f22a4c98a5a8272f11b62bff",
       "version_major": 2,
       "version_minor": 0
      },
      "text/plain": [
       "Output()"
      ]
     },
     "execution_count": 93,
     "metadata": {},
     "output_type": "execute_result"
    }
   ],
   "source": [
    "%matplotlib inline\n",
    "# MAGIC \n",
    "from matplotlib.pyplot import *\n",
    "layout = widgets.Layout(width='auto', height='40px') #set width and height\n",
    "# MAGIC \n",
    "button = widgets.Button(description=\"Plot your model\")\n",
    "out = widgets.Output()\n",
    "# MAGIC \n",
    "def on_button_clicked(b):\n",
    "    with out:\n",
    "        Y_actual = df['Mobile_Traffic']\n",
    "        Y_pred_trans = reverse_zscore(Y_pred, original_mean, original_std)\n",
    "        plt.scatter(Y_pred_trans,Y_actual)\n",
    "        plt.plot([0, max(max(Y_actual), max(Y_pred_trans))], [0,max(max(Y_actual), max(Y_pred_trans))], 'red')\n",
    "        plt.title(\"Mobile Traffic - Manual Model\")\n",
    "        plt.ylabel(\"Actual\")\n",
    "        plt.xlabel(\"Predicted\")\n",
    "        plt.show()\n",
    "        # show()\n",
    "button.on_click(on_button_clicked)\n",
    "# MAGIC \n",
    "display(button)\n",
    "# MAGIC \n",
    "with out:\n",
    "    print(\"\")\n",
    "    # plot([1,2],[1,2])\n",
    "    # show()\n",
    "out"
   ]
  },
  {
   "cell_type": "markdown",
   "id": "8020c915-8799-454e-aa4a-a1879cb3802b",
   "metadata": {},
   "source": [
    "## Make linear regression"
   ]
  },
  {
   "cell_type": "code",
   "execution_count": 94,
   "id": "a0568801-27d0-4073-abd8-6a44f75adfe5",
   "metadata": {},
   "outputs": [],
   "source": [
    "\n",
    "#Create formula\n",
    "# Remove Intercept\n",
    "formula ='Mobile_Traffic ~ -1 + '\n",
    "counter = 1\n",
    "for i in  X.columns.values:\n",
    "  if counter == 1:\n",
    "    formula = formula + i\n",
    "  else:\n",
    "    formula = formula + ' + ' + i\n",
    "  counter += 1"
   ]
  },
  {
   "cell_type": "code",
   "execution_count": 95,
   "id": "e9d6b7da-aeea-4bca-b51e-e754e2f6f246",
   "metadata": {},
   "outputs": [
    {
     "data": {
      "text/html": [
       "<table class=\"simpletable\">\n",
       "<caption>OLS Regression Results</caption>\n",
       "<tr>\n",
       "  <th>Dep. Variable:</th>     <td>Mobile_Traffic</td>  <th>  R-squared (uncentered):</th>      <td>   0.117</td>\n",
       "</tr>\n",
       "<tr>\n",
       "  <th>Model:</th>                   <td>OLS</td>       <th>  Adj. R-squared (uncentered):</th> <td>   0.114</td>\n",
       "</tr>\n",
       "<tr>\n",
       "  <th>Method:</th>             <td>Least Squares</td>  <th>  F-statistic:       </th>          <td>   35.36</td>\n",
       "</tr>\n",
       "<tr>\n",
       "  <th>Date:</th>             <td>Thu, 21 Sep 2023</td> <th>  Prob (F-statistic):</th>          <td>1.85e-21</td>\n",
       "</tr>\n",
       "<tr>\n",
       "  <th>Time:</th>                 <td>14:09:33</td>     <th>  Log-Likelihood:    </th>          <td> -1085.2</td>\n",
       "</tr>\n",
       "<tr>\n",
       "  <th>No. Observations:</th>      <td>   800</td>      <th>  AIC:               </th>          <td>   2176.</td>\n",
       "</tr>\n",
       "<tr>\n",
       "  <th>Df Residuals:</th>          <td>   797</td>      <th>  BIC:               </th>          <td>   2190.</td>\n",
       "</tr>\n",
       "<tr>\n",
       "  <th>Df Model:</th>              <td>     3</td>      <th>                     </th>              <td> </td>   \n",
       "</tr>\n",
       "<tr>\n",
       "  <th>Covariance Type:</th>      <td>nonrobust</td>    <th>                     </th>              <td> </td>   \n",
       "</tr>\n",
       "</table>\n",
       "<table class=\"simpletable\">\n",
       "<tr>\n",
       "            <td></td>               <th>coef</th>     <th>std err</th>      <th>t</th>      <th>P>|t|</th>  <th>[0.025</th>    <th>0.975]</th>  \n",
       "</tr>\n",
       "<tr>\n",
       "  <th>Number_Of_Residents</th>   <td>    0.2788</td> <td>    0.037</td> <td>    7.613</td> <td> 0.000</td> <td>    0.207</td> <td>    0.351</td>\n",
       "</tr>\n",
       "<tr>\n",
       "  <th>Time_Spend_On_YouTube</th> <td>    0.0766</td> <td>    0.035</td> <td>    2.212</td> <td> 0.027</td> <td>    0.009</td> <td>    0.145</td>\n",
       "</tr>\n",
       "<tr>\n",
       "  <th>Occupation</th>            <td>    0.0760</td> <td>    0.036</td> <td>    2.139</td> <td> 0.033</td> <td>    0.006</td> <td>    0.146</td>\n",
       "</tr>\n",
       "</table>\n",
       "<table class=\"simpletable\">\n",
       "<tr>\n",
       "  <th>Omnibus:</th>       <td> 1.105</td> <th>  Durbin-Watson:     </th> <td>   1.897</td>\n",
       "</tr>\n",
       "<tr>\n",
       "  <th>Prob(Omnibus):</th> <td> 0.575</td> <th>  Jarque-Bera (JB):  </th> <td>   1.076</td>\n",
       "</tr>\n",
       "<tr>\n",
       "  <th>Skew:</th>          <td> 0.090</td> <th>  Prob(JB):          </th> <td>   0.584</td>\n",
       "</tr>\n",
       "<tr>\n",
       "  <th>Kurtosis:</th>      <td> 2.998</td> <th>  Cond. No.          </th> <td>    1.57</td>\n",
       "</tr>\n",
       "</table><br/><br/>Notes:<br/>[1] R² is computed without centering (uncentered) since the model does not contain a constant.<br/>[2] Standard Errors assume that the covariance matrix of the errors is correctly specified."
      ],
      "text/latex": [
       "\\begin{center}\n",
       "\\begin{tabular}{lclc}\n",
       "\\toprule\n",
       "\\textbf{Dep. Variable:}           & Mobile\\_Traffic  & \\textbf{  R-squared (uncentered):}      &     0.117   \\\\\n",
       "\\textbf{Model:}                   &       OLS        & \\textbf{  Adj. R-squared (uncentered):} &     0.114   \\\\\n",
       "\\textbf{Method:}                  &  Least Squares   & \\textbf{  F-statistic:       }          &     35.36   \\\\\n",
       "\\textbf{Date:}                    & Thu, 21 Sep 2023 & \\textbf{  Prob (F-statistic):}          &  1.85e-21   \\\\\n",
       "\\textbf{Time:}                    &     14:09:33     & \\textbf{  Log-Likelihood:    }          &   -1085.2   \\\\\n",
       "\\textbf{No. Observations:}        &         800      & \\textbf{  AIC:               }          &     2176.   \\\\\n",
       "\\textbf{Df Residuals:}            &         797      & \\textbf{  BIC:               }          &     2190.   \\\\\n",
       "\\textbf{Df Model:}                &           3      & \\textbf{                     }          &             \\\\\n",
       "\\textbf{Covariance Type:}         &    nonrobust     & \\textbf{                     }          &             \\\\\n",
       "\\bottomrule\n",
       "\\end{tabular}\n",
       "\\begin{tabular}{lcccccc}\n",
       "                                  & \\textbf{coef} & \\textbf{std err} & \\textbf{t} & \\textbf{P$> |$t$|$} & \\textbf{[0.025} & \\textbf{0.975]}  \\\\\n",
       "\\midrule\n",
       "\\textbf{Number\\_Of\\_Residents}    &       0.2788  &        0.037     &     7.613  &         0.000        &        0.207    &        0.351     \\\\\n",
       "\\textbf{Time\\_Spend\\_On\\_YouTube} &       0.0766  &        0.035     &     2.212  &         0.027        &        0.009    &        0.145     \\\\\n",
       "\\textbf{Occupation}               &       0.0760  &        0.036     &     2.139  &         0.033        &        0.006    &        0.146     \\\\\n",
       "\\bottomrule\n",
       "\\end{tabular}\n",
       "\\begin{tabular}{lclc}\n",
       "\\textbf{Omnibus:}       &  1.105 & \\textbf{  Durbin-Watson:     } &    1.897  \\\\\n",
       "\\textbf{Prob(Omnibus):} &  0.575 & \\textbf{  Jarque-Bera (JB):  } &    1.076  \\\\\n",
       "\\textbf{Skew:}          &  0.090 & \\textbf{  Prob(JB):          } &    0.584  \\\\\n",
       "\\textbf{Kurtosis:}      &  2.998 & \\textbf{  Cond. No.          } &     1.57  \\\\\n",
       "\\bottomrule\n",
       "\\end{tabular}\n",
       "%\\caption{OLS Regression Results}\n",
       "\\end{center}\n",
       "\n",
       "Notes: \\newline\n",
       " [1] R² is computed without centering (uncentered) since the model does not contain a constant. \\newline\n",
       " [2] Standard Errors assume that the covariance matrix of the errors is correctly specified."
      ],
      "text/plain": [
       "<class 'statsmodels.iolib.summary.Summary'>\n",
       "\"\"\"\n",
       "                                 OLS Regression Results                                \n",
       "=======================================================================================\n",
       "Dep. Variable:         Mobile_Traffic   R-squared (uncentered):                   0.117\n",
       "Model:                            OLS   Adj. R-squared (uncentered):              0.114\n",
       "Method:                 Least Squares   F-statistic:                              35.36\n",
       "Date:                Thu, 21 Sep 2023   Prob (F-statistic):                    1.85e-21\n",
       "Time:                        14:09:33   Log-Likelihood:                         -1085.2\n",
       "No. Observations:                 800   AIC:                                      2176.\n",
       "Df Residuals:                     797   BIC:                                      2190.\n",
       "Df Model:                           3                                                  \n",
       "Covariance Type:            nonrobust                                                  \n",
       "=========================================================================================\n",
       "                            coef    std err          t      P>|t|      [0.025      0.975]\n",
       "-----------------------------------------------------------------------------------------\n",
       "Number_Of_Residents       0.2788      0.037      7.613      0.000       0.207       0.351\n",
       "Time_Spend_On_YouTube     0.0766      0.035      2.212      0.027       0.009       0.145\n",
       "Occupation                0.0760      0.036      2.139      0.033       0.006       0.146\n",
       "==============================================================================\n",
       "Omnibus:                        1.105   Durbin-Watson:                   1.897\n",
       "Prob(Omnibus):                  0.575   Jarque-Bera (JB):                1.076\n",
       "Skew:                           0.090   Prob(JB):                        0.584\n",
       "Kurtosis:                       2.998   Cond. No.                         1.57\n",
       "==============================================================================\n",
       "\n",
       "Notes:\n",
       "[1] R² is computed without centering (uncentered) since the model does not contain a constant.\n",
       "[2] Standard Errors assume that the covariance matrix of the errors is correctly specified.\n",
       "\"\"\""
      ]
     },
     "execution_count": 95,
     "metadata": {},
     "output_type": "execute_result"
    }
   ],
   "source": [
    "import pandas as pd\n",
    "import statsmodels.formula.api as smf\n",
    "import statsmodels.api as sm\n",
    "res = smf.ols(formula, data=df_z).fit()\n",
    "lm_prediction = res.predict(df_z[:])\n",
    "res.summary()"
   ]
  },
  {
   "cell_type": "code",
   "execution_count": 96,
   "id": "38145586-a222-40af-b829-133b5f169230",
   "metadata": {},
   "outputs": [
    {
     "data": {
      "image/png": "[encoded data removed]",
      "text/plain": [
       "<Figure size 640x480 with 1 Axes>"
      ]
     },
     "metadata": {},
     "output_type": "display_data"
    }
   ],
   "source": [
    "import matplotlib.pyplot as plt\n",
    "\n",
    "lm_prediction_trans = reverse_zscore(lm_prediction, original_mean, original_std)\n",
    "\n",
    "plt.scatter(lm_prediction_trans, Y_actual)\n",
    "plt.plot([0, max(max(Y_actual), max(lm_prediction_trans))], [0,max(max(Y_actual), max(lm_prediction_trans))], 'red')\n",
    "plt.title(\"Mobile Traffic - Linear Model\")\n",
    "plt.ylabel(\"Actual\")\n",
    "plt.xlabel(\"Predicted\")\n",
    "plt.show()\n"
   ]
  },
  {
   "cell_type": "code",
   "execution_count": 97,
   "id": "2a85db0c-a600-4fa4-8b36-d4802d921539",
   "metadata": {},
   "outputs": [
    {
     "ename": "KeyError",
     "evalue": "'Distance_To_Nearest_Tower_m'",
     "output_type": "error",
     "traceback": [
      "\u001b[0;31m---------------------------------------------------------------------------\u001b[0m",
      "\u001b[0;31mKeyError\u001b[0m                                  Traceback (most recent call last)",
      "File \u001b[0;32m/mnt/c/Users/m87266/Repositories/science-day/scienceDay_tdcnet/.venv/lib/python3.10/site-packages/pandas/core/indexes/base.py:3790\u001b[0m, in \u001b[0;36mIndex.get_loc\u001b[0;34m(self, key)\u001b[0m\n\u001b[1;32m   3789\u001b[0m \u001b[38;5;28;01mtry\u001b[39;00m:\n\u001b[0;32m-> 3790\u001b[0m     \u001b[38;5;28;01mreturn\u001b[39;00m \u001b[38;5;28;43mself\u001b[39;49m\u001b[38;5;241;43m.\u001b[39;49m\u001b[43m_engine\u001b[49m\u001b[38;5;241;43m.\u001b[39;49m\u001b[43mget_loc\u001b[49m\u001b[43m(\u001b[49m\u001b[43mcasted_key\u001b[49m\u001b[43m)\u001b[49m\n\u001b[1;32m   3791\u001b[0m \u001b[38;5;28;01mexcept\u001b[39;00m \u001b[38;5;167;01mKeyError\u001b[39;00m \u001b[38;5;28;01mas\u001b[39;00m err:\n",
      "File \u001b[0;32mindex.pyx:152\u001b[0m, in \u001b[0;36mpandas._libs.index.IndexEngine.get_loc\u001b[0;34m()\u001b[0m\n",
      "File \u001b[0;32mindex.pyx:181\u001b[0m, in \u001b[0;36mpandas._libs.index.IndexEngine.get_loc\u001b[0;34m()\u001b[0m\n",
      "File \u001b[0;32mpandas/_libs/hashtable_class_helper.pxi:7080\u001b[0m, in \u001b[0;36mpandas._libs.hashtable.PyObjectHashTable.get_item\u001b[0;34m()\u001b[0m\n",
      "File \u001b[0;32mpandas/_libs/hashtable_class_helper.pxi:7088\u001b[0m, in \u001b[0;36mpandas._libs.hashtable.PyObjectHashTable.get_item\u001b[0;34m()\u001b[0m\n",
      "\u001b[0;31mKeyError\u001b[0m: 'Distance_To_Nearest_Tower_m'",
      "\nThe above exception was the direct cause of the following exception:\n",
      "\u001b[0;31mKeyError\u001b[0m                                  Traceback (most recent call last)",
      "Cell \u001b[0;32mIn[97], line 2\u001b[0m\n\u001b[1;32m      1\u001b[0m \u001b[38;5;66;03m# Show case Non Linear relationship\u001b[39;00m\n\u001b[0;32m----> 2\u001b[0m plt\u001b[38;5;241m.\u001b[39mscatter(\u001b[43mdf\u001b[49m\u001b[43m[\u001b[49m\u001b[38;5;124;43m'\u001b[39;49m\u001b[38;5;124;43mDistance_To_Nearest_Tower_m\u001b[39;49m\u001b[38;5;124;43m'\u001b[39;49m\u001b[43m]\u001b[49m, Y_actual)\n\u001b[1;32m      3\u001b[0m plt\u001b[38;5;241m.\u001b[39mtitle(\u001b[38;5;124m\"\u001b[39m\u001b[38;5;124mMobile Traffic - Linear Model\u001b[39m\u001b[38;5;124m\"\u001b[39m)\n\u001b[1;32m      4\u001b[0m plt\u001b[38;5;241m.\u001b[39mylabel(\u001b[38;5;124m\"\u001b[39m\u001b[38;5;124mMobile Traffic\u001b[39m\u001b[38;5;124m\"\u001b[39m)\n",
      "File \u001b[0;32m/mnt/c/Users/m87266/Repositories/science-day/scienceDay_tdcnet/.venv/lib/python3.10/site-packages/pandas/core/frame.py:3896\u001b[0m, in \u001b[0;36mDataFrame.__getitem__\u001b[0;34m(self, key)\u001b[0m\n\u001b[1;32m   3894\u001b[0m \u001b[38;5;28;01mif\u001b[39;00m \u001b[38;5;28mself\u001b[39m\u001b[38;5;241m.\u001b[39mcolumns\u001b[38;5;241m.\u001b[39mnlevels \u001b[38;5;241m>\u001b[39m \u001b[38;5;241m1\u001b[39m:\n\u001b[1;32m   3895\u001b[0m     \u001b[38;5;28;01mreturn\u001b[39;00m \u001b[38;5;28mself\u001b[39m\u001b[38;5;241m.\u001b[39m_getitem_multilevel(key)\n\u001b[0;32m-> 3896\u001b[0m indexer \u001b[38;5;241m=\u001b[39m \u001b[38;5;28;43mself\u001b[39;49m\u001b[38;5;241;43m.\u001b[39;49m\u001b[43mcolumns\u001b[49m\u001b[38;5;241;43m.\u001b[39;49m\u001b[43mget_loc\u001b[49m\u001b[43m(\u001b[49m\u001b[43mkey\u001b[49m\u001b[43m)\u001b[49m\n\u001b[1;32m   3897\u001b[0m \u001b[38;5;28;01mif\u001b[39;00m is_integer(indexer):\n\u001b[1;32m   3898\u001b[0m     indexer \u001b[38;5;241m=\u001b[39m [indexer]\n",
      "File \u001b[0;32m/mnt/c/Users/m87266/Repositories/science-day/scienceDay_tdcnet/.venv/lib/python3.10/site-packages/pandas/core/indexes/base.py:3797\u001b[0m, in \u001b[0;36mIndex.get_loc\u001b[0;34m(self, key)\u001b[0m\n\u001b[1;32m   3792\u001b[0m     \u001b[38;5;28;01mif\u001b[39;00m \u001b[38;5;28misinstance\u001b[39m(casted_key, \u001b[38;5;28mslice\u001b[39m) \u001b[38;5;129;01mor\u001b[39;00m (\n\u001b[1;32m   3793\u001b[0m         \u001b[38;5;28misinstance\u001b[39m(casted_key, abc\u001b[38;5;241m.\u001b[39mIterable)\n\u001b[1;32m   3794\u001b[0m         \u001b[38;5;129;01mand\u001b[39;00m \u001b[38;5;28many\u001b[39m(\u001b[38;5;28misinstance\u001b[39m(x, \u001b[38;5;28mslice\u001b[39m) \u001b[38;5;28;01mfor\u001b[39;00m x \u001b[38;5;129;01min\u001b[39;00m casted_key)\n\u001b[1;32m   3795\u001b[0m     ):\n\u001b[1;32m   3796\u001b[0m         \u001b[38;5;28;01mraise\u001b[39;00m InvalidIndexError(key)\n\u001b[0;32m-> 3797\u001b[0m     \u001b[38;5;28;01mraise\u001b[39;00m \u001b[38;5;167;01mKeyError\u001b[39;00m(key) \u001b[38;5;28;01mfrom\u001b[39;00m \u001b[38;5;21;01merr\u001b[39;00m\n\u001b[1;32m   3798\u001b[0m \u001b[38;5;28;01mexcept\u001b[39;00m \u001b[38;5;167;01mTypeError\u001b[39;00m:\n\u001b[1;32m   3799\u001b[0m     \u001b[38;5;66;03m# If we have a listlike key, _check_indexing_error will raise\u001b[39;00m\n\u001b[1;32m   3800\u001b[0m     \u001b[38;5;66;03m#  InvalidIndexError. Otherwise we fall through and re-raise\u001b[39;00m\n\u001b[1;32m   3801\u001b[0m     \u001b[38;5;66;03m#  the TypeError.\u001b[39;00m\n\u001b[1;32m   3802\u001b[0m     \u001b[38;5;28mself\u001b[39m\u001b[38;5;241m.\u001b[39m_check_indexing_error(key)\n",
      "\u001b[0;31mKeyError\u001b[0m: 'Distance_To_Nearest_Tower_m'"
     ]
    }
   ],
   "source": [
    "# Show case Non Linear relationship\n",
    "plt.scatter(df['Distance_To_Nearest_Tower_m'], Y_actual)\n",
    "plt.title(\"Mobile Traffic - Linear Model\")\n",
    "plt.ylabel(\"Mobile Traffic\")\n",
    "plt.xlabel(\"-\")\n",
    "plt.show()"
   ]
  },
  {
   "cell_type": "code",
   "execution_count": 99,
   "id": "3085a63c-de0f-4401-b1bc-597b4c2b4e68",
   "metadata": {},
   "outputs": [
    {
     "ename": "PatsyError",
     "evalue": "Error evaluating factor: NameError: name 'Average_Age' is not defined\n    Mobile_Traffic ~ Average_Age + Number_Of_Phones\n                     ^^^^^^^^^^^",
     "output_type": "error",
     "traceback": [
      "\u001b[0;31m---------------------------------------------------------------------------\u001b[0m",
      "\u001b[0;31mNameError\u001b[0m                                 Traceback (most recent call last)",
      "File \u001b[0;32m/mnt/c/Users/m87266/Repositories/science-day/scienceDay_tdcnet/.venv/lib/python3.10/site-packages/patsy/compat.py:36\u001b[0m, in \u001b[0;36mcall_and_wrap_exc\u001b[0;34m(msg, origin, f, *args, **kwargs)\u001b[0m\n\u001b[1;32m     35\u001b[0m \u001b[38;5;28;01mtry\u001b[39;00m:\n\u001b[0;32m---> 36\u001b[0m     \u001b[38;5;28;01mreturn\u001b[39;00m \u001b[43mf\u001b[49m\u001b[43m(\u001b[49m\u001b[38;5;241;43m*\u001b[39;49m\u001b[43margs\u001b[49m\u001b[43m,\u001b[49m\u001b[43m \u001b[49m\u001b[38;5;241;43m*\u001b[39;49m\u001b[38;5;241;43m*\u001b[39;49m\u001b[43mkwargs\u001b[49m\u001b[43m)\u001b[49m\n\u001b[1;32m     37\u001b[0m \u001b[38;5;28;01mexcept\u001b[39;00m \u001b[38;5;167;01mException\u001b[39;00m \u001b[38;5;28;01mas\u001b[39;00m e:\n",
      "File \u001b[0;32m/mnt/c/Users/m87266/Repositories/science-day/scienceDay_tdcnet/.venv/lib/python3.10/site-packages/patsy/eval.py:169\u001b[0m, in \u001b[0;36mEvalEnvironment.eval\u001b[0;34m(self, expr, source_name, inner_namespace)\u001b[0m\n\u001b[1;32m    168\u001b[0m code \u001b[38;5;241m=\u001b[39m \u001b[38;5;28mcompile\u001b[39m(expr, source_name, \u001b[38;5;124m\"\u001b[39m\u001b[38;5;124meval\u001b[39m\u001b[38;5;124m\"\u001b[39m, \u001b[38;5;28mself\u001b[39m\u001b[38;5;241m.\u001b[39mflags, \u001b[38;5;28;01mFalse\u001b[39;00m)\n\u001b[0;32m--> 169\u001b[0m \u001b[38;5;28;01mreturn\u001b[39;00m \u001b[38;5;28;43meval\u001b[39;49m\u001b[43m(\u001b[49m\u001b[43mcode\u001b[49m\u001b[43m,\u001b[49m\u001b[43m \u001b[49m\u001b[43m{\u001b[49m\u001b[43m}\u001b[49m\u001b[43m,\u001b[49m\u001b[43m \u001b[49m\u001b[43mVarLookupDict\u001b[49m\u001b[43m(\u001b[49m\u001b[43m[\u001b[49m\u001b[43minner_namespace\u001b[49m\u001b[43m]\u001b[49m\n\u001b[1;32m    170\u001b[0m \u001b[43m                                    \u001b[49m\u001b[38;5;241;43m+\u001b[39;49m\u001b[43m \u001b[49m\u001b[38;5;28;43mself\u001b[39;49m\u001b[38;5;241;43m.\u001b[39;49m\u001b[43m_namespaces\u001b[49m\u001b[43m)\u001b[49m\u001b[43m)\u001b[49m\n",
      "File \u001b[0;32m<string>:1\u001b[0m\n",
      "\u001b[0;31mNameError\u001b[0m: name 'Average_Age' is not defined",
      "\nThe above exception was the direct cause of the following exception:\n",
      "\u001b[0;31mPatsyError\u001b[0m                                Traceback (most recent call last)",
      "Cell \u001b[0;32mIn[99], line 8\u001b[0m\n\u001b[1;32m      5\u001b[0m \u001b[38;5;28;01mimport\u001b[39;00m \u001b[38;5;21;01mmatplotlib\u001b[39;00m\u001b[38;5;21;01m.\u001b[39;00m\u001b[38;5;21;01mpyplot\u001b[39;00m \u001b[38;5;28;01mas\u001b[39;00m \u001b[38;5;21;01mplt\u001b[39;00m\n\u001b[1;32m      6\u001b[0m \u001b[38;5;28;01mfrom\u001b[39;00m \u001b[38;5;21;01mmpl_toolkits\u001b[39;00m \u001b[38;5;28;01mimport\u001b[39;00m mplot3d\n\u001b[0;32m----> 8\u001b[0m model \u001b[38;5;241m=\u001b[39m \u001b[43msmf\u001b[49m\u001b[38;5;241;43m.\u001b[39;49m\u001b[43mols\u001b[49m\u001b[43m(\u001b[49m\u001b[43mformula\u001b[49m\u001b[38;5;241;43m=\u001b[39;49m\u001b[38;5;124;43m'\u001b[39;49m\u001b[38;5;124;43mMobile_Traffic ~ Average_Age + Number_Of_Phones\u001b[39;49m\u001b[38;5;124;43m'\u001b[39;49m\u001b[43m,\u001b[49m\u001b[43m \u001b[49m\u001b[43mdata\u001b[49m\u001b[38;5;241;43m=\u001b[39;49m\u001b[43mdf\u001b[49m\u001b[43m)\u001b[49m\n\u001b[1;32m     10\u001b[0m results \u001b[38;5;241m=\u001b[39m model\u001b[38;5;241m.\u001b[39mfit()\n\u001b[1;32m     11\u001b[0m x, y \u001b[38;5;241m=\u001b[39m model\u001b[38;5;241m.\u001b[39mexog_names[\u001b[38;5;241m1\u001b[39m:]\n",
      "File \u001b[0;32m/mnt/c/Users/m87266/Repositories/science-day/scienceDay_tdcnet/.venv/lib/python3.10/site-packages/statsmodels/base/model.py:203\u001b[0m, in \u001b[0;36mModel.from_formula\u001b[0;34m(cls, formula, data, subset, drop_cols, *args, **kwargs)\u001b[0m\n\u001b[1;32m    200\u001b[0m \u001b[38;5;28;01mif\u001b[39;00m missing \u001b[38;5;241m==\u001b[39m \u001b[38;5;124m'\u001b[39m\u001b[38;5;124mnone\u001b[39m\u001b[38;5;124m'\u001b[39m:  \u001b[38;5;66;03m# with patsy it's drop or raise. let's raise.\u001b[39;00m\n\u001b[1;32m    201\u001b[0m     missing \u001b[38;5;241m=\u001b[39m \u001b[38;5;124m'\u001b[39m\u001b[38;5;124mraise\u001b[39m\u001b[38;5;124m'\u001b[39m\n\u001b[0;32m--> 203\u001b[0m tmp \u001b[38;5;241m=\u001b[39m \u001b[43mhandle_formula_data\u001b[49m\u001b[43m(\u001b[49m\u001b[43mdata\u001b[49m\u001b[43m,\u001b[49m\u001b[43m \u001b[49m\u001b[38;5;28;43;01mNone\u001b[39;49;00m\u001b[43m,\u001b[49m\u001b[43m \u001b[49m\u001b[43mformula\u001b[49m\u001b[43m,\u001b[49m\u001b[43m \u001b[49m\u001b[43mdepth\u001b[49m\u001b[38;5;241;43m=\u001b[39;49m\u001b[43meval_env\u001b[49m\u001b[43m,\u001b[49m\n\u001b[1;32m    204\u001b[0m \u001b[43m                          \u001b[49m\u001b[43mmissing\u001b[49m\u001b[38;5;241;43m=\u001b[39;49m\u001b[43mmissing\u001b[49m\u001b[43m)\u001b[49m\n\u001b[1;32m    205\u001b[0m ((endog, exog), missing_idx, design_info) \u001b[38;5;241m=\u001b[39m tmp\n\u001b[1;32m    206\u001b[0m max_endog \u001b[38;5;241m=\u001b[39m \u001b[38;5;28mcls\u001b[39m\u001b[38;5;241m.\u001b[39m_formula_max_endog\n",
      "File \u001b[0;32m/mnt/c/Users/m87266/Repositories/science-day/scienceDay_tdcnet/.venv/lib/python3.10/site-packages/statsmodels/formula/formulatools.py:63\u001b[0m, in \u001b[0;36mhandle_formula_data\u001b[0;34m(Y, X, formula, depth, missing)\u001b[0m\n\u001b[1;32m     61\u001b[0m \u001b[38;5;28;01melse\u001b[39;00m:\n\u001b[1;32m     62\u001b[0m     \u001b[38;5;28;01mif\u001b[39;00m data_util\u001b[38;5;241m.\u001b[39m_is_using_pandas(Y, \u001b[38;5;28;01mNone\u001b[39;00m):\n\u001b[0;32m---> 63\u001b[0m         result \u001b[38;5;241m=\u001b[39m \u001b[43mdmatrices\u001b[49m\u001b[43m(\u001b[49m\u001b[43mformula\u001b[49m\u001b[43m,\u001b[49m\u001b[43m \u001b[49m\u001b[43mY\u001b[49m\u001b[43m,\u001b[49m\u001b[43m \u001b[49m\u001b[43mdepth\u001b[49m\u001b[43m,\u001b[49m\u001b[43m \u001b[49m\u001b[43mreturn_type\u001b[49m\u001b[38;5;241;43m=\u001b[39;49m\u001b[38;5;124;43m'\u001b[39;49m\u001b[38;5;124;43mdataframe\u001b[39;49m\u001b[38;5;124;43m'\u001b[39;49m\u001b[43m,\u001b[49m\n\u001b[1;32m     64\u001b[0m \u001b[43m                           \u001b[49m\u001b[43mNA_action\u001b[49m\u001b[38;5;241;43m=\u001b[39;49m\u001b[43mna_action\u001b[49m\u001b[43m)\u001b[49m\n\u001b[1;32m     65\u001b[0m     \u001b[38;5;28;01melse\u001b[39;00m:\n\u001b[1;32m     66\u001b[0m         result \u001b[38;5;241m=\u001b[39m dmatrices(formula, Y, depth, return_type\u001b[38;5;241m=\u001b[39m\u001b[38;5;124m'\u001b[39m\u001b[38;5;124mdataframe\u001b[39m\u001b[38;5;124m'\u001b[39m,\n\u001b[1;32m     67\u001b[0m                            NA_action\u001b[38;5;241m=\u001b[39mna_action)\n",
      "File \u001b[0;32m/mnt/c/Users/m87266/Repositories/science-day/scienceDay_tdcnet/.venv/lib/python3.10/site-packages/patsy/highlevel.py:309\u001b[0m, in \u001b[0;36mdmatrices\u001b[0;34m(formula_like, data, eval_env, NA_action, return_type)\u001b[0m\n\u001b[1;32m    299\u001b[0m \u001b[38;5;250m\u001b[39m\u001b[38;5;124;03m\"\"\"Construct two design matrices given a formula_like and data.\u001b[39;00m\n\u001b[1;32m    300\u001b[0m \n\u001b[1;32m    301\u001b[0m \u001b[38;5;124;03mThis function is identical to :func:`dmatrix`, except that it requires\u001b[39;00m\n\u001b[0;32m   (...)\u001b[0m\n\u001b[1;32m    306\u001b[0m \u001b[38;5;124;03mSee :func:`dmatrix` for details.\u001b[39;00m\n\u001b[1;32m    307\u001b[0m \u001b[38;5;124;03m\"\"\"\u001b[39;00m\n\u001b[1;32m    308\u001b[0m eval_env \u001b[38;5;241m=\u001b[39m EvalEnvironment\u001b[38;5;241m.\u001b[39mcapture(eval_env, reference\u001b[38;5;241m=\u001b[39m\u001b[38;5;241m1\u001b[39m)\n\u001b[0;32m--> 309\u001b[0m (lhs, rhs) \u001b[38;5;241m=\u001b[39m \u001b[43m_do_highlevel_design\u001b[49m\u001b[43m(\u001b[49m\u001b[43mformula_like\u001b[49m\u001b[43m,\u001b[49m\u001b[43m \u001b[49m\u001b[43mdata\u001b[49m\u001b[43m,\u001b[49m\u001b[43m \u001b[49m\u001b[43meval_env\u001b[49m\u001b[43m,\u001b[49m\n\u001b[1;32m    310\u001b[0m \u001b[43m                                  \u001b[49m\u001b[43mNA_action\u001b[49m\u001b[43m,\u001b[49m\u001b[43m \u001b[49m\u001b[43mreturn_type\u001b[49m\u001b[43m)\u001b[49m\n\u001b[1;32m    311\u001b[0m \u001b[38;5;28;01mif\u001b[39;00m lhs\u001b[38;5;241m.\u001b[39mshape[\u001b[38;5;241m1\u001b[39m] \u001b[38;5;241m==\u001b[39m \u001b[38;5;241m0\u001b[39m:\n\u001b[1;32m    312\u001b[0m     \u001b[38;5;28;01mraise\u001b[39;00m PatsyError(\u001b[38;5;124m\"\u001b[39m\u001b[38;5;124mmodel is missing required outcome variables\u001b[39m\u001b[38;5;124m\"\u001b[39m)\n",
      "File \u001b[0;32m/mnt/c/Users/m87266/Repositories/science-day/scienceDay_tdcnet/.venv/lib/python3.10/site-packages/patsy/highlevel.py:164\u001b[0m, in \u001b[0;36m_do_highlevel_design\u001b[0;34m(formula_like, data, eval_env, NA_action, return_type)\u001b[0m\n\u001b[1;32m    162\u001b[0m \u001b[38;5;28;01mdef\u001b[39;00m \u001b[38;5;21mdata_iter_maker\u001b[39m():\n\u001b[1;32m    163\u001b[0m     \u001b[38;5;28;01mreturn\u001b[39;00m \u001b[38;5;28miter\u001b[39m([data])\n\u001b[0;32m--> 164\u001b[0m design_infos \u001b[38;5;241m=\u001b[39m \u001b[43m_try_incr_builders\u001b[49m\u001b[43m(\u001b[49m\u001b[43mformula_like\u001b[49m\u001b[43m,\u001b[49m\u001b[43m \u001b[49m\u001b[43mdata_iter_maker\u001b[49m\u001b[43m,\u001b[49m\u001b[43m \u001b[49m\u001b[43meval_env\u001b[49m\u001b[43m,\u001b[49m\n\u001b[1;32m    165\u001b[0m \u001b[43m                                  \u001b[49m\u001b[43mNA_action\u001b[49m\u001b[43m)\u001b[49m\n\u001b[1;32m    166\u001b[0m \u001b[38;5;28;01mif\u001b[39;00m design_infos \u001b[38;5;129;01mis\u001b[39;00m \u001b[38;5;129;01mnot\u001b[39;00m \u001b[38;5;28;01mNone\u001b[39;00m:\n\u001b[1;32m    167\u001b[0m     \u001b[38;5;28;01mreturn\u001b[39;00m build_design_matrices(design_infos, data,\n\u001b[1;32m    168\u001b[0m                                  NA_action\u001b[38;5;241m=\u001b[39mNA_action,\n\u001b[1;32m    169\u001b[0m                                  return_type\u001b[38;5;241m=\u001b[39mreturn_type)\n",
      "File \u001b[0;32m/mnt/c/Users/m87266/Repositories/science-day/scienceDay_tdcnet/.venv/lib/python3.10/site-packages/patsy/highlevel.py:66\u001b[0m, in \u001b[0;36m_try_incr_builders\u001b[0;34m(formula_like, data_iter_maker, eval_env, NA_action)\u001b[0m\n\u001b[1;32m     64\u001b[0m \u001b[38;5;28;01mif\u001b[39;00m \u001b[38;5;28misinstance\u001b[39m(formula_like, ModelDesc):\n\u001b[1;32m     65\u001b[0m     \u001b[38;5;28;01massert\u001b[39;00m \u001b[38;5;28misinstance\u001b[39m(eval_env, EvalEnvironment)\n\u001b[0;32m---> 66\u001b[0m     \u001b[38;5;28;01mreturn\u001b[39;00m \u001b[43mdesign_matrix_builders\u001b[49m\u001b[43m(\u001b[49m\u001b[43m[\u001b[49m\u001b[43mformula_like\u001b[49m\u001b[38;5;241;43m.\u001b[39;49m\u001b[43mlhs_termlist\u001b[49m\u001b[43m,\u001b[49m\n\u001b[1;32m     67\u001b[0m \u001b[43m                                   \u001b[49m\u001b[43mformula_like\u001b[49m\u001b[38;5;241;43m.\u001b[39;49m\u001b[43mrhs_termlist\u001b[49m\u001b[43m]\u001b[49m\u001b[43m,\u001b[49m\n\u001b[1;32m     68\u001b[0m \u001b[43m                                  \u001b[49m\u001b[43mdata_iter_maker\u001b[49m\u001b[43m,\u001b[49m\n\u001b[1;32m     69\u001b[0m \u001b[43m                                  \u001b[49m\u001b[43meval_env\u001b[49m\u001b[43m,\u001b[49m\n\u001b[1;32m     70\u001b[0m \u001b[43m                                  \u001b[49m\u001b[43mNA_action\u001b[49m\u001b[43m)\u001b[49m\n\u001b[1;32m     71\u001b[0m \u001b[38;5;28;01melse\u001b[39;00m:\n\u001b[1;32m     72\u001b[0m     \u001b[38;5;28;01mreturn\u001b[39;00m \u001b[38;5;28;01mNone\u001b[39;00m\n",
      "File \u001b[0;32m/mnt/c/Users/m87266/Repositories/science-day/scienceDay_tdcnet/.venv/lib/python3.10/site-packages/patsy/build.py:693\u001b[0m, in \u001b[0;36mdesign_matrix_builders\u001b[0;34m(termlists, data_iter_maker, eval_env, NA_action)\u001b[0m\n\u001b[1;32m    689\u001b[0m factor_states \u001b[38;5;241m=\u001b[39m _factors_memorize(all_factors, data_iter_maker, eval_env)\n\u001b[1;32m    690\u001b[0m \u001b[38;5;66;03m# Now all the factors have working eval methods, so we can evaluate them\u001b[39;00m\n\u001b[1;32m    691\u001b[0m \u001b[38;5;66;03m# on some data to find out what type of data they return.\u001b[39;00m\n\u001b[1;32m    692\u001b[0m (num_column_counts,\n\u001b[0;32m--> 693\u001b[0m  cat_levels_contrasts) \u001b[38;5;241m=\u001b[39m \u001b[43m_examine_factor_types\u001b[49m\u001b[43m(\u001b[49m\u001b[43mall_factors\u001b[49m\u001b[43m,\u001b[49m\n\u001b[1;32m    694\u001b[0m \u001b[43m                                               \u001b[49m\u001b[43mfactor_states\u001b[49m\u001b[43m,\u001b[49m\n\u001b[1;32m    695\u001b[0m \u001b[43m                                               \u001b[49m\u001b[43mdata_iter_maker\u001b[49m\u001b[43m,\u001b[49m\n\u001b[1;32m    696\u001b[0m \u001b[43m                                               \u001b[49m\u001b[43mNA_action\u001b[49m\u001b[43m)\u001b[49m\n\u001b[1;32m    697\u001b[0m \u001b[38;5;66;03m# Now we need the factor infos, which encapsulate the knowledge of\u001b[39;00m\n\u001b[1;32m    698\u001b[0m \u001b[38;5;66;03m# how to turn any given factor into a chunk of data:\u001b[39;00m\n\u001b[1;32m    699\u001b[0m factor_infos \u001b[38;5;241m=\u001b[39m {}\n",
      "File \u001b[0;32m/mnt/c/Users/m87266/Repositories/science-day/scienceDay_tdcnet/.venv/lib/python3.10/site-packages/patsy/build.py:443\u001b[0m, in \u001b[0;36m_examine_factor_types\u001b[0;34m(factors, factor_states, data_iter_maker, NA_action)\u001b[0m\n\u001b[1;32m    441\u001b[0m \u001b[38;5;28;01mfor\u001b[39;00m data \u001b[38;5;129;01min\u001b[39;00m data_iter_maker():\n\u001b[1;32m    442\u001b[0m     \u001b[38;5;28;01mfor\u001b[39;00m factor \u001b[38;5;129;01min\u001b[39;00m \u001b[38;5;28mlist\u001b[39m(examine_needed):\n\u001b[0;32m--> 443\u001b[0m         value \u001b[38;5;241m=\u001b[39m \u001b[43mfactor\u001b[49m\u001b[38;5;241;43m.\u001b[39;49m\u001b[43meval\u001b[49m\u001b[43m(\u001b[49m\u001b[43mfactor_states\u001b[49m\u001b[43m[\u001b[49m\u001b[43mfactor\u001b[49m\u001b[43m]\u001b[49m\u001b[43m,\u001b[49m\u001b[43m \u001b[49m\u001b[43mdata\u001b[49m\u001b[43m)\u001b[49m\n\u001b[1;32m    444\u001b[0m         \u001b[38;5;28;01mif\u001b[39;00m factor \u001b[38;5;129;01min\u001b[39;00m cat_sniffers \u001b[38;5;129;01mor\u001b[39;00m guess_categorical(value):\n\u001b[1;32m    445\u001b[0m             \u001b[38;5;28;01mif\u001b[39;00m factor \u001b[38;5;129;01mnot\u001b[39;00m \u001b[38;5;129;01min\u001b[39;00m cat_sniffers:\n",
      "File \u001b[0;32m/mnt/c/Users/m87266/Repositories/science-day/scienceDay_tdcnet/.venv/lib/python3.10/site-packages/patsy/eval.py:568\u001b[0m, in \u001b[0;36mEvalFactor.eval\u001b[0;34m(self, memorize_state, data)\u001b[0m\n\u001b[1;32m    567\u001b[0m \u001b[38;5;28;01mdef\u001b[39;00m \u001b[38;5;21meval\u001b[39m(\u001b[38;5;28mself\u001b[39m, memorize_state, data):\n\u001b[0;32m--> 568\u001b[0m     \u001b[38;5;28;01mreturn\u001b[39;00m \u001b[38;5;28;43mself\u001b[39;49m\u001b[38;5;241;43m.\u001b[39;49m\u001b[43m_eval\u001b[49m\u001b[43m(\u001b[49m\u001b[43mmemorize_state\u001b[49m\u001b[43m[\u001b[49m\u001b[38;5;124;43m\"\u001b[39;49m\u001b[38;5;124;43meval_code\u001b[39;49m\u001b[38;5;124;43m\"\u001b[39;49m\u001b[43m]\u001b[49m\u001b[43m,\u001b[49m\n\u001b[1;32m    569\u001b[0m \u001b[43m                      \u001b[49m\u001b[43mmemorize_state\u001b[49m\u001b[43m,\u001b[49m\n\u001b[1;32m    570\u001b[0m \u001b[43m                      \u001b[49m\u001b[43mdata\u001b[49m\u001b[43m)\u001b[49m\n",
      "File \u001b[0;32m/mnt/c/Users/m87266/Repositories/science-day/scienceDay_tdcnet/.venv/lib/python3.10/site-packages/patsy/eval.py:551\u001b[0m, in \u001b[0;36mEvalFactor._eval\u001b[0;34m(self, code, memorize_state, data)\u001b[0m\n\u001b[1;32m    549\u001b[0m \u001b[38;5;28;01mdef\u001b[39;00m \u001b[38;5;21m_eval\u001b[39m(\u001b[38;5;28mself\u001b[39m, code, memorize_state, data):\n\u001b[1;32m    550\u001b[0m     inner_namespace \u001b[38;5;241m=\u001b[39m VarLookupDict([data, memorize_state[\u001b[38;5;124m\"\u001b[39m\u001b[38;5;124mtransforms\u001b[39m\u001b[38;5;124m\"\u001b[39m]])\n\u001b[0;32m--> 551\u001b[0m     \u001b[38;5;28;01mreturn\u001b[39;00m \u001b[43mcall_and_wrap_exc\u001b[49m\u001b[43m(\u001b[49m\u001b[38;5;124;43m\"\u001b[39;49m\u001b[38;5;124;43mError evaluating factor\u001b[39;49m\u001b[38;5;124;43m\"\u001b[39;49m\u001b[43m,\u001b[49m\n\u001b[1;32m    552\u001b[0m \u001b[43m                             \u001b[49m\u001b[38;5;28;43mself\u001b[39;49m\u001b[43m,\u001b[49m\n\u001b[1;32m    553\u001b[0m \u001b[43m                             \u001b[49m\u001b[43mmemorize_state\u001b[49m\u001b[43m[\u001b[49m\u001b[38;5;124;43m\"\u001b[39;49m\u001b[38;5;124;43meval_env\u001b[39;49m\u001b[38;5;124;43m\"\u001b[39;49m\u001b[43m]\u001b[49m\u001b[38;5;241;43m.\u001b[39;49m\u001b[43meval\u001b[49m\u001b[43m,\u001b[49m\n\u001b[1;32m    554\u001b[0m \u001b[43m                             \u001b[49m\u001b[43mcode\u001b[49m\u001b[43m,\u001b[49m\n\u001b[1;32m    555\u001b[0m \u001b[43m                             \u001b[49m\u001b[43minner_namespace\u001b[49m\u001b[38;5;241;43m=\u001b[39;49m\u001b[43minner_namespace\u001b[49m\u001b[43m)\u001b[49m\n",
      "File \u001b[0;32m/mnt/c/Users/m87266/Repositories/science-day/scienceDay_tdcnet/.venv/lib/python3.10/site-packages/patsy/compat.py:43\u001b[0m, in \u001b[0;36mcall_and_wrap_exc\u001b[0;34m(msg, origin, f, *args, **kwargs)\u001b[0m\n\u001b[1;32m     39\u001b[0m     new_exc \u001b[38;5;241m=\u001b[39m PatsyError(\u001b[38;5;124m\"\u001b[39m\u001b[38;5;132;01m%s\u001b[39;00m\u001b[38;5;124m: \u001b[39m\u001b[38;5;132;01m%s\u001b[39;00m\u001b[38;5;124m: \u001b[39m\u001b[38;5;132;01m%s\u001b[39;00m\u001b[38;5;124m\"\u001b[39m\n\u001b[1;32m     40\u001b[0m                          \u001b[38;5;241m%\u001b[39m (msg, e\u001b[38;5;241m.\u001b[39m\u001b[38;5;18m__class__\u001b[39m\u001b[38;5;241m.\u001b[39m\u001b[38;5;18m__name__\u001b[39m, e),\n\u001b[1;32m     41\u001b[0m                          origin)\n\u001b[1;32m     42\u001b[0m     \u001b[38;5;66;03m# Use 'exec' to hide this syntax from the Python 2 parser:\u001b[39;00m\n\u001b[0;32m---> 43\u001b[0m     \u001b[43mexec\u001b[49m\u001b[43m(\u001b[49m\u001b[38;5;124;43m\"\u001b[39;49m\u001b[38;5;124;43mraise new_exc from e\u001b[39;49m\u001b[38;5;124;43m\"\u001b[39;49m\u001b[43m)\u001b[49m\n\u001b[1;32m     44\u001b[0m \u001b[38;5;28;01melse\u001b[39;00m:\n\u001b[1;32m     45\u001b[0m     \u001b[38;5;66;03m# In python 2, we just let the original exception escape -- better\u001b[39;00m\n\u001b[1;32m     46\u001b[0m     \u001b[38;5;66;03m# than destroying the traceback. But if it's a PatsyError, we can\u001b[39;00m\n\u001b[1;32m     47\u001b[0m     \u001b[38;5;66;03m# at least set the origin properly.\u001b[39;00m\n\u001b[1;32m     48\u001b[0m     \u001b[38;5;28;01mif\u001b[39;00m \u001b[38;5;28misinstance\u001b[39m(e, PatsyError):\n",
      "File \u001b[0;32m<string>:1\u001b[0m\n",
      "\u001b[0;31mPatsyError\u001b[0m: Error evaluating factor: NameError: name 'Average_Age' is not defined\n    Mobile_Traffic ~ Average_Age + Number_Of_Phones\n                     ^^^^^^^^^^^"
     ]
    }
   ],
   "source": [
    "# Example 3d plot\n",
    "import numpy as np\n",
    "import seaborn as sns\n",
    "import statsmodels.formula.api as smf\n",
    "import matplotlib.pyplot as plt\n",
    "from mpl_toolkits import mplot3d\n",
    "\n",
    "model = smf.ols(formula='Mobile_Traffic ~ Average_Age + Number_Of_Phones', data=df)\n",
    "\n",
    "results = model.fit()\n",
    "x, y = model.exog_names[1:]\n",
    "\n",
    "x_range = np.arange(df[x].min(), df[x].max())\n",
    "print(x_range.shape)\n",
    "y_range = np.arange(df[y].min(), df[y].max())\n",
    "print(y_range.shape)\n",
    "\n",
    "X, Y = np.meshgrid(x_range, y_range)\n",
    "\n",
    "exog = pd.DataFrame({x: X.ravel(), y: Y.ravel()})\n",
    "Z = results.predict(exog = exog).values.reshape(X.shape)\n",
    "y_pred = results.predict(df[model.exog_names[1:]])\n",
    "\n",
    "fig = plt.figure(figsize=plt.figaspect(1)*2)\n",
    "ax = plt.axes(projection='3d')\n",
    "ax.scatter(df[x].values, df[y].values, df[model.endog_names].values, label=\"Actual\")\n",
    "ax.scatter(df[x].values, df[y].values, y_pred, label=\"Pred\")\n",
    "\n",
    "ax.plot_surface(X, Y, Z, rstride=1, cstride=1, alpha = 0.4)\n",
    "ax.legend()\n",
    "plt.show()"
   ]
  },
  {
   "cell_type": "code",
   "execution_count": null,
   "id": "2776d25b-7acd-4e8d-8fe3-0a46679173a3",
   "metadata": {},
   "outputs": [],
   "source": [
    "# from mpl_toolkits.mplot3d import Axes3D\n",
    "# from matplotlib import cm\n",
    "# from matplotlib.ticker import LinearLocator, FormatStrFormatter\n",
    "# import matplotlib.pyplot as plt\n",
    "# import numpy as np\n",
    "\n",
    "# fig = plt.figure()\n",
    "# ax = fig.gca(projection='3d')\n",
    "# X = np.arange(-5, 5, 0.25)\n",
    "# Y = np.arange(-5, 5, 0.25)\n",
    "# X, Y = np.meshgrid(X, Y)\n",
    "# R = np.sqrt(X**2 + Y**2)\n",
    "# Z = np.sin(R)\n",
    "# surf = ax.plot_surface(X, Y, Z, rstride=1, cstride=1, cmap=cm.coolwarm,\n",
    "#                        linewidth=0, antialiased=False)\n",
    "# ax.set_zlim(-1.01, 1.01)\n",
    "\n",
    "# ax.zaxis.set_major_locator(LinearLocator(10))\n",
    "# ax.zaxis.set_major_formatter(FormatStrFormatter('%.02f'))\n",
    "\n",
    "# fig.colorbar(surf, shrink=0.5, aspect=5)\n",
    "\n",
    "# plt.show()"
   ]
  }
 ],
 "metadata": {
  "kernelspec": {
   "display_name": "Python 3 (ipykernel)",
   "language": "python",
   "name": "python3"
  },
  "language_info": {
   "codemirror_mode": {
    "name": "ipython",
    "version": 3
   },
   "file_extension": ".py",
   "mimetype": "text/x-python",
   "name": "python",
   "nbconvert_exporter": "python",
   "pygments_lexer": "ipython3",
   "version": "3.10.6"
  }
 },
 "nbformat": 4,
 "nbformat_minor": 5
}
