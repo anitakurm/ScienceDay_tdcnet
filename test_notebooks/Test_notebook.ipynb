{
 "cells": [
  {
   "cell_type": "markdown",
   "metadata": {
    "application/vnd.databricks.v1+cell": {
     "cellMetadata": {},
     "inputWidgets": {},
     "nuid": "3203eff0-1b24-47ee-bbd3-82b5fcdff8bd",
     "showTitle": false,
     "title": ""
    }
   },
   "source": [
    "# Science Day 2023"
   ]
  },
  {
   "cell_type": "markdown",
   "metadata": {
    "application/vnd.databricks.v1+cell": {
     "cellMetadata": {},
     "inputWidgets": {},
     "nuid": "03c4455c-a317-4289-a185-105852cc6d30",
     "showTitle": false,
     "title": ""
    }
   },
   "source": [
    "You are given a dataset\n",
    "Your task is to predict the target"
   ]
  },
  {
   "cell_type": "code",
   "execution_count": 0,
   "metadata": {
    "application/vnd.databricks.v1+cell": {
     "cellMetadata": {},
     "inputWidgets": {},
     "nuid": "b20ff13c-ba5c-4bff-9ccf-4116dcfb3fc1",
     "showTitle": false,
     "title": ""
    }
   },
   "outputs": [],
   "source": [
    "import sklearn\n",
    "import sklearn.datasets\n",
    "import matplotlib.pyplot as plt\n",
    "import numpy as np\n",
    "import ipywidgets as wd\n",
    "%matplotlib widget"
   ]
  },
  {
   "cell_type": "code",
   "execution_count": 0,
   "metadata": {
    "application/vnd.databricks.v1+cell": {
     "cellMetadata": {},
     "inputWidgets": {},
     "nuid": "db9ab936-609e-49ab-bb4e-811e72a40211",
     "showTitle": false,
     "title": ""
    }
   },
   "outputs": [],
   "source": [
    "sklearn.__version__"
   ]
  },
  {
   "cell_type": "code",
   "execution_count": 0,
   "metadata": {
    "application/vnd.databricks.v1+cell": {
     "cellMetadata": {},
     "inputWidgets": {},
     "nuid": "11cb2aa7-24d9-44a8-a331-7b63a4c9ff9e",
     "showTitle": false,
     "title": ""
    }
   },
   "outputs": [],
   "source": [
    "data = sklearn.datasets.load_iris()"
   ]
  },
  {
   "cell_type": "code",
   "execution_count": 0,
   "metadata": {
    "application/vnd.databricks.v1+cell": {
     "cellMetadata": {},
     "inputWidgets": {},
     "nuid": "75c16321-e009-4a8a-9d94-56144a593ac7",
     "showTitle": false,
     "title": ""
    }
   },
   "outputs": [],
   "source": [
    "fig = plt.figure()\n",
    "fig.canvas.toolbar_visible = False\n",
    "fig.canvas.header_visible = False\n",
    "fig.canvas.footer_visible = False"
   ]
  },
  {
   "cell_type": "code",
   "execution_count": 0,
   "metadata": {
    "application/vnd.databricks.v1+cell": {
     "cellMetadata": {},
     "inputWidgets": {},
     "nuid": "84d43011-edb4-402a-af69-e04a7b9acb1c",
     "showTitle": false,
     "title": ""
    }
   },
   "outputs": [],
   "source": [
    "plt.imshow(np.cov(data[\"data\"]))"
   ]
  },
  {
   "cell_type": "code",
   "execution_count": 0,
   "metadata": {
    "application/vnd.databricks.v1+cell": {
     "cellMetadata": {},
     "inputWidgets": {},
     "nuid": "1280fc4b-2a92-48f0-9684-f4d4be04bf2f",
     "showTitle": false,
     "title": ""
    }
   },
   "outputs": [],
   "source": [
    "display(fig)"
   ]
  },
  {
   "cell_type": "markdown",
   "metadata": {
    "application/vnd.databricks.v1+cell": {
     "cellMetadata": {},
     "inputWidgets": {},
     "nuid": "8ac15415-dca3-48ee-b0ef-73b44997f44a",
     "showTitle": false,
     "title": ""
    }
   },
   "source": [
    "# Simple slider test"
   ]
  },
  {
   "cell_type": "code",
   "execution_count": 0,
   "metadata": {
    "application/vnd.databricks.v1+cell": {
     "cellMetadata": {},
     "inputWidgets": {},
     "nuid": "58264939-cbbf-45ba-b8e5-37a4d076bbdc",
     "showTitle": false,
     "title": ""
    }
   },
   "outputs": [],
   "source": [
    "index_slider = wd.IntSlider(min=0, max= data[\"data\"].shape[0])"
   ]
  },
  {
   "cell_type": "code",
   "execution_count": 0,
   "metadata": {
    "application/vnd.databricks.v1+cell": {
     "cellMetadata": {},
     "inputWidgets": {},
     "nuid": "b6c5300b-2ed5-45d1-bb8a-a66569e27d91",
     "showTitle": false,
     "title": ""
    }
   },
   "outputs": [],
   "source": [
    "index_slider"
   ]
  },
  {
   "cell_type": "code",
   "execution_count": 0,
   "metadata": {
    "application/vnd.databricks.v1+cell": {
     "cellMetadata": {},
     "inputWidgets": {},
     "nuid": "00606a95-9e52-4b8f-b819-64d2b3464eb5",
     "showTitle": false,
     "title": ""
    }
   },
   "outputs": [],
   "source": [
    "def plot_sine():\n",
    "    x = np.arange(0,1000)\n",
    "    fig = plt.figure()\n",
    "    plt.plot(x, np.sin(index_slider.value * x))"
   ]
  },
  {
   "cell_type": "code",
   "execution_count": 0,
   "metadata": {
    "application/vnd.databricks.v1+cell": {
     "cellMetadata": {},
     "inputWidgets": {},
     "nuid": "7bcdbc13-fcc0-4e36-a426-77a710728efd",
     "showTitle": false,
     "title": ""
    }
   },
   "outputs": [],
   "source": [
    "plot_sine()"
   ]
  },
  {
   "cell_type": "code",
   "execution_count": 0,
   "metadata": {
    "application/vnd.databricks.v1+cell": {
     "cellMetadata": {},
     "inputWidgets": {},
     "nuid": "66e55e27-0f22-4e68-b72e-671905179b74",
     "showTitle": false,
     "title": ""
    }
   },
   "outputs": [],
   "source": [
    "plt.ioff()\n",
    "slider = wd.FloatSlider(\n",
    "    orientation='horizontal',\n",
    "    description='Factor:',\n",
    "    value=1.0,\n",
    "    min=0.02,\n",
    "    max=2.0,\n",
    "    step=0.01\n",
    ")\n",
    "\n",
    "slider.layout.margin = '0px 30% 0px 30%'\n",
    "slider.layout.width = '40%'\n",
    "\n",
    "fig = plt.figure()\n",
    "fig.canvas.header_visible = False\n",
    "fig.canvas.layout.min_height = '400px'\n",
    "plt.title('Plotting: y=sin({} * x)'.format(slider.value))\n",
    "\n",
    "x = np.linspace(0, 20, 500)\n",
    "\n",
    "lines = plt.plot(x, np.sin(slider.value * x))\n",
    "\n",
    "def update_lines(change):\n",
    "    plt.title('Plotting: y=sin({} * x)'.format(change.new))\n",
    "    lines[0].set_data(x, np.sin(change.new * x))\n",
    "    #fig.canvas.draw()\n",
    "    #fig.canvas.flush_events()\n",
    "\n",
    "slider.observe(update_lines, names='value')\n",
    "\n",
    "wd.AppLayout(\n",
    "    center=fig.canvas,\n",
    "    footer=slider,\n",
    "    pane_heights=[0, 6, 1]\n",
    ")"
   ]
  },
  {
   "cell_type": "code",
   "execution_count": 0,
   "metadata": {
    "application/vnd.databricks.v1+cell": {
     "cellMetadata": {},
     "inputWidgets": {},
     "nuid": "3a062682-0745-4b44-95a1-a18907dd8f3c",
     "showTitle": false,
     "title": ""
    }
   },
   "outputs": [],
   "source": [
    "features = ['Number Of Residents', 'Average Age', 'Distance To Nearest Tower [m]', 'Number Of Phones']\n",
    "feature_sliders = {\n",
    "    v: wd.FloatSlider( min=-1.0, max=1.0) for v in features\n",
    "}"
   ]
  },
  {
   "cell_type": "code",
   "execution_count": 0,
   "metadata": {
    "application/vnd.databricks.v1+cell": {
     "cellMetadata": {},
     "inputWidgets": {},
     "nuid": "40487d27-ecaa-4630-b766-bb4f6909c313",
     "showTitle": false,
     "title": ""
    }
   },
   "outputs": [],
   "source": [
    "feature_sliders.values()"
   ]
  },
  {
   "cell_type": "code",
   "execution_count": 0,
   "metadata": {
    "application/vnd.databricks.v1+cell": {
     "cellMetadata": {},
     "inputWidgets": {},
     "nuid": "35fabb86-5057-45d5-8944-eeb9ceb7b250",
     "showTitle": false,
     "title": ""
    }
   },
   "outputs": [],
   "source": [
    "wd.HBox([\n",
    "    wd.VBox([wd.HTML(v) for v in feature_sliders]),\n",
    "    wd.VBox([v for v in feature_sliders.values()])\n",
    "])"
   ]
  },
  {
   "cell_type": "code",
   "execution_count": 0,
   "metadata": {
    "application/vnd.databricks.v1+cell": {
     "cellMetadata": {},
     "inputWidgets": {},
     "nuid": "d0396a4d-b306-4c6e-a0e1-2bbe7f3066f1",
     "showTitle": false,
     "title": ""
    }
   },
   "outputs": [],
   "source": []
  }
 ],
 "metadata": {
  "application/vnd.databricks.v1+notebook": {
   "dashboards": [],
   "language": "python",
   "notebookMetadata": {},
   "notebookName": "Test_notebook",
   "widgets": {}
  },
  "kernelspec": {
   "display_name": "Python 3 (ipykernel)",
   "language": "python",
   "name": "python3"
  },
  "language_info": {
   "codemirror_mode": {
    "name": "ipython",
    "version": 3
   },
   "file_extension": ".py",
   "mimetype": "text/x-python",
   "name": "python",
   "nbconvert_exporter": "python",
   "pygments_lexer": "ipython3",
   "version": "3.10.6"
  }
 },
 "nbformat": 4,
 "nbformat_minor": 0
}
