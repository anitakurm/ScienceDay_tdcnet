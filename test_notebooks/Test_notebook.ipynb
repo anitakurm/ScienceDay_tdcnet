{
 "cells": [
  {
   "cell_type": "markdown",
   "id": "df4fc058",
   "metadata": {},
   "source": [
    "# Science Day 2023"
   ]
  },
  {
   "cell_type": "markdown",
   "id": "a799b78a",
   "metadata": {},
   "source": [
    "You are given a dataset\n",
    "Your task is to predict the target"
   ]
  },
  {
   "cell_type": "code",
   "execution_count": null,
   "id": "2d8e8f18",
   "metadata": {},
   "outputs": [],
   "source": [
    "import sklearn\n",
    "import sklearn.datasets\n",
    "import matplotlib.pyplot as plt\n",
    "import numpy as np\n",
    "import ipywidgets as wd\n",
    "%matplotlib widget"
   ]
  },
  {
   "cell_type": "code",
   "execution_count": null,
   "id": "f865602a",
   "metadata": {},
   "outputs": [],
   "source": [
    "sklearn.__version__"
   ]
  },
  {
   "cell_type": "code",
   "execution_count": null,
   "id": "55d3ac5a",
   "metadata": {},
   "outputs": [],
   "source": [
    "data = sklearn.datasets.load_iris()"
   ]
  },
  {
   "cell_type": "code",
   "execution_count": null,
   "id": "569f00dc-d1d2-4b31-8428-0a6eeef5f148",
   "metadata": {},
   "outputs": [],
   "source": [
    "fig = plt.figure()\n",
    "fig.canvas.toolbar_visible = False\n",
    "fig.canvas.header_visible = False\n",
    "fig.canvas.footer_visible = False"
   ]
  },
  {
   "cell_type": "code",
   "execution_count": null,
   "id": "ec4a2a23-093a-4940-bd05-17a94aeb637f",
   "metadata": {},
   "outputs": [],
   "source": [
    "plt.imshow(np.cov(data[\"data\"]))"
   ]
  },
  {
   "cell_type": "code",
   "execution_count": null,
   "id": "6f7c9c2c-eaf0-4072-9574-c9fbddc7814d",
   "metadata": {},
   "outputs": [],
   "source": [
    "display(fig)"
   ]
  },
  {
   "cell_type": "markdown",
   "id": "e8489cfa-9ffa-4984-824e-c5d5faaab995",
   "metadata": {},
   "source": [
    "# Simple slider test"
   ]
  },
  {
   "cell_type": "code",
   "execution_count": null,
   "id": "4b19e9eb-bd65-447b-84b8-fa1447779b90",
   "metadata": {},
   "outputs": [],
   "source": [
    "index_slider = wd.IntSlider(min=0, max= data[\"data\"].shape[0])"
   ]
  },
  {
   "cell_type": "code",
   "execution_count": null,
   "id": "e2f68d6f-91ae-41c0-9fa8-6e624bdeb930",
   "metadata": {},
   "outputs": [],
   "source": [
    "index_slider"
   ]
  },
  {
   "cell_type": "code",
   "execution_count": null,
   "id": "cf13dd19-982e-4b13-bf73-fd6faf6155b2",
   "metadata": {},
   "outputs": [],
   "source": [
    "def plot_sine():\n",
    "    x = np.arange(0,1000)\n",
    "    fig = plt.figure()\n",
    "    plt.plot(x, np.sin(index_slider.value * x))"
   ]
  },
  {
   "cell_type": "code",
   "execution_count": null,
   "id": "070fe75a-deb4-4d6e-aa45-d480db92af3c",
   "metadata": {},
   "outputs": [],
   "source": [
    "plot_sine()"
   ]
  },
  {
   "cell_type": "code",
   "execution_count": null,
   "id": "708ddb7d-e4ca-4a4b-b4d3-fe94757e123d",
   "metadata": {},
   "outputs": [],
   "source": [
    "plt.ioff()\n",
    "slider = wd.FloatSlider(\n",
    "    orientation='horizontal',\n",
    "    description='Factor:',\n",
    "    value=1.0,\n",
    "    min=0.02,\n",
    "    max=2.0,\n",
    "    step=0.01\n",
    ")\n",
    "\n",
    "slider.layout.margin = '0px 30% 0px 30%'\n",
    "slider.layout.width = '40%'\n",
    "\n",
    "fig = plt.figure()\n",
    "fig.canvas.header_visible = False\n",
    "fig.canvas.layout.min_height = '400px'\n",
    "plt.title('Plotting: y=sin({} * x)'.format(slider.value))\n",
    "\n",
    "x = np.linspace(0, 20, 500)\n",
    "\n",
    "lines = plt.plot(x, np.sin(slider.value * x))\n",
    "\n",
    "def update_lines(change):\n",
    "    plt.title('Plotting: y=sin({} * x)'.format(change.new))\n",
    "    lines[0].set_data(x, np.sin(change.new * x))\n",
    "    #fig.canvas.draw()\n",
    "    #fig.canvas.flush_events()\n",
    "\n",
    "slider.observe(update_lines, names='value')\n",
    "\n",
    "wd.AppLayout(\n",
    "    center=fig.canvas,\n",
    "    footer=slider,\n",
    "    pane_heights=[0, 6, 1]\n",
    ")"
   ]
  },
  {
   "cell_type": "code",
   "execution_count": null,
   "id": "950174c1-8617-4e83-abe4-548067af1473",
   "metadata": {},
   "outputs": [],
   "source": [
    "features = ['Number Of Residents', 'Average Age', 'Distance To Nearest Tower [m]', 'Number Of Phones']\n",
    "feature_sliders = {\n",
    "    v: wd.FloatSlider( min=-1.0, max=1.0) for v in features\n",
    "}"
   ]
  },
  {
   "cell_type": "code",
   "execution_count": null,
   "id": "d5087312-04dd-4cc4-97a5-e2805d2adc68",
   "metadata": {},
   "outputs": [],
   "source": [
    "feature_sliders.values()"
   ]
  },
  {
   "cell_type": "code",
   "execution_count": null,
   "id": "86e03cab-5569-4a96-9257-0daef9256297",
   "metadata": {},
   "outputs": [],
   "source": [
    "wd.HBox([\n",
    "    wd.VBox([wd.HTML(v) for v in feature_sliders]),\n",
    "    wd.VBox([v for v in feature_sliders.values()])\n",
    "])"
   ]
  },
  {
   "cell_type": "code",
   "execution_count": null,
   "id": "b39013e2-0c7c-402c-bfa2-db3258c96d48",
   "metadata": {},
   "outputs": [],
   "source": []
  }
 ],
 "metadata": {
  "kernelspec": {
   "display_name": "Python 3 (ipykernel)",
   "language": "python",
   "name": "python3"
  },
  "language_info": {
   "codemirror_mode": {
    "name": "ipython",
    "version": 3
   },
   "file_extension": ".py",
   "mimetype": "text/x-python",
   "name": "python",
   "nbconvert_exporter": "python",
   "pygments_lexer": "ipython3",
   "version": "3.10.6"
  }
 },
 "nbformat": 4,
 "nbformat_minor": 5
}
