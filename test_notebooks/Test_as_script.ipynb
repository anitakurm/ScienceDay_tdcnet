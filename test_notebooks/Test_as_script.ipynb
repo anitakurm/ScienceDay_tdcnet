{
 "cells": [
  {
   "cell_type": "code",
   "execution_count": null,
   "id": "ffe5d370-50de-4bb6-bfb1-4252d57f3521",
   "metadata": {},
   "outputs": [],
   "source": [
    "%matplotlib widget\n",
    "import test_script as ts"
   ]
  },
  {
   "cell_type": "code",
   "execution_count": null,
   "id": "a3ef09df-a4e3-4fb5-9415-9c49df8d3fdf",
   "metadata": {},
   "outputs": [],
   "source": [
    "ts.main"
   ]
  },
  {
   "cell_type": "code",
   "execution_count": null,
   "id": "14f0de95-e826-467c-8d90-77f34a75d893",
   "metadata": {},
   "outputs": [],
   "source": [
    "ts.update_new_graph(\"\")"
   ]
  },
  {
   "cell_type": "code",
   "execution_count": null,
   "id": "a52ee463-1ec8-4f98-967b-1b6e3d1c46cb",
   "metadata": {},
   "outputs": [],
   "source": []
  }
 ],
 "metadata": {
  "kernelspec": {
   "display_name": "Python 3 (ipykernel)",
   "language": "python",
   "name": "python3"
  },
  "language_info": {
   "codemirror_mode": {
    "name": "ipython",
    "version": 3
   },
   "file_extension": ".py",
   "mimetype": "text/x-python",
   "name": "python",
   "nbconvert_exporter": "python",
   "pygments_lexer": "ipython3",
   "version": "3.10.6"
  }
 },
 "nbformat": 4,
 "nbformat_minor": 5
}
